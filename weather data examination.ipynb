{
 "cells": [
  {
   "cell_type": "markdown",
   "metadata": {},
   "source": [
    "# data import"
   ]
  },
  {
   "cell_type": "code",
   "execution_count": 1,
   "metadata": {
    "ExecuteTime": {
     "end_time": "2020-01-20T08:06:07.535886Z",
     "start_time": "2020-01-20T08:06:04.836445Z"
    }
   },
   "outputs": [],
   "source": [
    "import numpy as np\n",
    "import pandas as pd\n",
    "from matplotlib import pyplot as plt"
   ]
  },
  {
   "cell_type": "code",
   "execution_count": 485,
   "metadata": {
    "ExecuteTime": {
     "end_time": "2020-01-20T14:54:27.281339Z",
     "start_time": "2020-01-20T14:54:27.129151Z"
    }
   },
   "outputs": [],
   "source": [
    "weather_path = 'data/weather_train.csv'\n",
    "weather = pd.read_csv(weather_path)"
   ]
  },
  {
   "cell_type": "code",
   "execution_count": 486,
   "metadata": {
    "ExecuteTime": {
     "end_time": "2020-01-20T14:54:29.165103Z",
     "start_time": "2020-01-20T14:54:28.879229Z"
    }
   },
   "outputs": [],
   "source": [
    "weather_test_path = 'data/weather_test.csv'\n",
    "weather_test = pd.read_csv(weather_test_path)"
   ]
  },
  {
   "cell_type": "code",
   "execution_count": 135,
   "metadata": {
    "ExecuteTime": {
     "end_time": "2020-01-20T09:37:51.683697Z",
     "start_time": "2020-01-20T09:37:51.672580Z"
    }
   },
   "outputs": [
    {
     "data": {
      "text/plain": [
       "(139773, 9)"
      ]
     },
     "execution_count": 135,
     "metadata": {},
     "output_type": "execute_result"
    }
   ],
   "source": [
    "weather.shape"
   ]
  },
  {
   "cell_type": "code",
   "execution_count": 239,
   "metadata": {
    "ExecuteTime": {
     "end_time": "2020-01-20T11:15:34.913160Z",
     "start_time": "2020-01-20T11:15:34.888600Z"
    }
   },
   "outputs": [
    {
     "data": {
      "text/plain": [
       "site_id                 int64\n",
       "timestamp              object\n",
       "air_temperature       float64\n",
       "cloud_coverage        float64\n",
       "dew_temperature       float64\n",
       "precip_depth_1_hr     float64\n",
       "sea_level_pressure    float64\n",
       "wind_direction        float64\n",
       "wind_speed            float64\n",
       "dtype: object"
      ]
     },
     "execution_count": 239,
     "metadata": {},
     "output_type": "execute_result"
    }
   ],
   "source": [
    "weather.dtypes"
   ]
  },
  {
   "cell_type": "code",
   "execution_count": 491,
   "metadata": {
    "ExecuteTime": {
     "end_time": "2020-01-20T14:55:53.201664Z",
     "start_time": "2020-01-20T14:55:52.961048Z"
    }
   },
   "outputs": [],
   "source": [
    "weather['timestamp'] = pd.to_datetime(weather['timestamp'])\n",
    "weather_test['timestamp'] = pd.to_datetime(weather_test['timestamp'])"
   ]
  },
  {
   "cell_type": "code",
   "execution_count": 136,
   "metadata": {
    "ExecuteTime": {
     "end_time": "2020-01-20T09:38:30.843240Z",
     "start_time": "2020-01-20T09:38:30.822708Z"
    }
   },
   "outputs": [
    {
     "data": {
      "text/html": [
       "<div>\n",
       "<style scoped>\n",
       "    .dataframe tbody tr th:only-of-type {\n",
       "        vertical-align: middle;\n",
       "    }\n",
       "\n",
       "    .dataframe tbody tr th {\n",
       "        vertical-align: top;\n",
       "    }\n",
       "\n",
       "    .dataframe thead th {\n",
       "        text-align: right;\n",
       "    }\n",
       "</style>\n",
       "<table border=\"1\" class=\"dataframe\">\n",
       "  <thead>\n",
       "    <tr style=\"text-align: right;\">\n",
       "      <th></th>\n",
       "      <th>76057</th>\n",
       "      <th>15244</th>\n",
       "      <th>119721</th>\n",
       "      <th>56102</th>\n",
       "      <th>69110</th>\n",
       "    </tr>\n",
       "  </thead>\n",
       "  <tbody>\n",
       "    <tr>\n",
       "      <th>site_id</th>\n",
       "      <td>8</td>\n",
       "      <td>1</td>\n",
       "      <td>13</td>\n",
       "      <td>6</td>\n",
       "      <td>7</td>\n",
       "    </tr>\n",
       "    <tr>\n",
       "      <th>timestamp</th>\n",
       "      <td>2016-09-07 13:00:00</td>\n",
       "      <td>2016-09-26 21:00:00</td>\n",
       "      <td>2016-09-05 10:00:00</td>\n",
       "      <td>2016-05-23 23:00:00</td>\n",
       "      <td>2016-11-22 04:00:00</td>\n",
       "    </tr>\n",
       "    <tr>\n",
       "      <th>air_temperature</th>\n",
       "      <td>26.7</td>\n",
       "      <td>13.8</td>\n",
       "      <td>19.4</td>\n",
       "      <td>20.6</td>\n",
       "      <td>-2.5</td>\n",
       "    </tr>\n",
       "    <tr>\n",
       "      <th>cloud_coverage</th>\n",
       "      <td>0</td>\n",
       "      <td>0</td>\n",
       "      <td>NaN</td>\n",
       "      <td>2</td>\n",
       "      <td>NaN</td>\n",
       "    </tr>\n",
       "    <tr>\n",
       "      <th>dew_temperature</th>\n",
       "      <td>21.1</td>\n",
       "      <td>10.7</td>\n",
       "      <td>17.2</td>\n",
       "      <td>11.7</td>\n",
       "      <td>-3.5</td>\n",
       "    </tr>\n",
       "    <tr>\n",
       "      <th>precip_depth_1_hr</th>\n",
       "      <td>0</td>\n",
       "      <td>NaN</td>\n",
       "      <td>94</td>\n",
       "      <td>0</td>\n",
       "      <td>6</td>\n",
       "    </tr>\n",
       "    <tr>\n",
       "      <th>sea_level_pressure</th>\n",
       "      <td>1021.7</td>\n",
       "      <td>1022.5</td>\n",
       "      <td>1010</td>\n",
       "      <td>1013.5</td>\n",
       "      <td>1005.8</td>\n",
       "    </tr>\n",
       "    <tr>\n",
       "      <th>wind_direction</th>\n",
       "      <td>50</td>\n",
       "      <td>150</td>\n",
       "      <td>200</td>\n",
       "      <td>210</td>\n",
       "      <td>280</td>\n",
       "    </tr>\n",
       "    <tr>\n",
       "      <th>wind_speed</th>\n",
       "      <td>3.1</td>\n",
       "      <td>3.1</td>\n",
       "      <td>5.7</td>\n",
       "      <td>2.1</td>\n",
       "      <td>5.7</td>\n",
       "    </tr>\n",
       "  </tbody>\n",
       "</table>\n",
       "</div>"
      ],
      "text/plain": [
       "                                 76057                15244   \\\n",
       "site_id                               8                    1   \n",
       "timestamp           2016-09-07 13:00:00  2016-09-26 21:00:00   \n",
       "air_temperature                    26.7                 13.8   \n",
       "cloud_coverage                        0                    0   \n",
       "dew_temperature                    21.1                 10.7   \n",
       "precip_depth_1_hr                     0                  NaN   \n",
       "sea_level_pressure               1021.7               1022.5   \n",
       "wind_direction                       50                  150   \n",
       "wind_speed                          3.1                  3.1   \n",
       "\n",
       "                                 119721               56102   \\\n",
       "site_id                              13                    6   \n",
       "timestamp           2016-09-05 10:00:00  2016-05-23 23:00:00   \n",
       "air_temperature                    19.4                 20.6   \n",
       "cloud_coverage                      NaN                    2   \n",
       "dew_temperature                    17.2                 11.7   \n",
       "precip_depth_1_hr                    94                    0   \n",
       "sea_level_pressure                 1010               1013.5   \n",
       "wind_direction                      200                  210   \n",
       "wind_speed                          5.7                  2.1   \n",
       "\n",
       "                                 69110   \n",
       "site_id                               7  \n",
       "timestamp           2016-11-22 04:00:00  \n",
       "air_temperature                    -2.5  \n",
       "cloud_coverage                      NaN  \n",
       "dew_temperature                    -3.5  \n",
       "precip_depth_1_hr                     6  \n",
       "sea_level_pressure               1005.8  \n",
       "wind_direction                      280  \n",
       "wind_speed                          5.7  "
      ]
     },
     "execution_count": 136,
     "metadata": {},
     "output_type": "execute_result"
    }
   ],
   "source": [
    "random_sample = weather.loc[weather.index[np.random.randint(0, weather.shape[0], (5))]]\n",
    "random_sample.T"
   ]
  },
  {
   "cell_type": "markdown",
   "metadata": {
    "heading_collapsed": true
   },
   "source": [
    "# features initial examination"
   ]
  },
  {
   "cell_type": "markdown",
   "metadata": {
    "heading_collapsed": true,
    "hidden": true
   },
   "source": [
    "## site id"
   ]
  },
  {
   "cell_type": "code",
   "execution_count": 171,
   "metadata": {
    "ExecuteTime": {
     "end_time": "2020-01-20T10:43:07.924913Z",
     "start_time": "2020-01-20T10:43:07.914939Z"
    },
    "hidden": true
   },
   "outputs": [
    {
     "data": {
      "text/plain": [
       "array([ 0,  1,  2,  3,  4,  5,  6,  7,  8,  9, 10, 11, 12, 13, 14, 15],\n",
       "      dtype=int64)"
      ]
     },
     "execution_count": 171,
     "metadata": {},
     "output_type": "execute_result"
    }
   ],
   "source": [
    "weather['site_id'].unique()"
   ]
  },
  {
   "cell_type": "code",
   "execution_count": 172,
   "metadata": {
    "ExecuteTime": {
     "end_time": "2020-01-20T10:43:08.912996Z",
     "start_time": "2020-01-20T10:43:08.899996Z"
    },
    "hidden": true
   },
   "outputs": [
    {
     "data": {
      "text/plain": [
       "0"
      ]
     },
     "execution_count": 172,
     "metadata": {},
     "output_type": "execute_result"
    }
   ],
   "source": [
    "np.sum(weather['site_id'].isna())"
   ]
  },
  {
   "cell_type": "code",
   "execution_count": 173,
   "metadata": {
    "ExecuteTime": {
     "end_time": "2020-01-20T10:43:10.008000Z",
     "start_time": "2020-01-20T10:43:09.962588Z"
    },
    "hidden": true
   },
   "outputs": [],
   "source": [
    "nulls = weather.set_index('site_id').isna().groupby('site_id').sum()"
   ]
  },
  {
   "cell_type": "code",
   "execution_count": 317,
   "metadata": {
    "ExecuteTime": {
     "end_time": "2020-01-20T12:31:28.325722Z",
     "start_time": "2020-01-20T12:31:28.226981Z"
    },
    "hidden": true
   },
   "outputs": [],
   "source": [
    "test_nulls = weather_test.set_index('site_id').isna().groupby('site_id').sum()"
   ]
  },
  {
   "cell_type": "code",
   "execution_count": 174,
   "metadata": {
    "ExecuteTime": {
     "end_time": "2020-01-20T10:43:11.311293Z",
     "start_time": "2020-01-20T10:43:11.154996Z"
    },
    "hidden": true
   },
   "outputs": [
    {
     "data": {
      "image/png": "[encoded data removed]",
      "text/plain": [
       "<Figure size 432x288 with 1 Axes>"
      ]
     },
     "metadata": {
      "needs_background": "light"
     },
     "output_type": "display_data"
    }
   ],
   "source": [
    "site_id_apearences = weather['site_id'].value_counts()\n",
    "plt.bar(site_id_apearences.index, site_id_apearences.values)\n",
    "plt.xlabel('site_id')\n",
    "plt.ylabel('amount')\n",
    "plt.title('appearences of every site_id')\n",
    "plt.show()"
   ]
  },
  {
   "cell_type": "code",
   "execution_count": 175,
   "metadata": {
    "ExecuteTime": {
     "end_time": "2020-01-20T10:43:13.787286Z",
     "start_time": "2020-01-20T10:43:13.762639Z"
    },
    "hidden": true
   },
   "outputs": [],
   "source": [
    "site_group = weather.groupby(by = 'site_id')"
   ]
  },
  {
   "cell_type": "code",
   "execution_count": 176,
   "metadata": {
    "ExecuteTime": {
     "end_time": "2020-01-20T10:43:14.722104Z",
     "start_time": "2020-01-20T10:43:14.698613Z"
    },
    "hidden": true
   },
   "outputs": [],
   "source": [
    "one_site = weather[weather['site_id'] == 0]"
   ]
  },
  {
   "cell_type": "markdown",
   "metadata": {
    "heading_collapsed": true,
    "hidden": true
   },
   "source": [
    "## timestamp"
   ]
  },
  {
   "cell_type": "code",
   "execution_count": 253,
   "metadata": {
    "ExecuteTime": {
     "end_time": "2020-01-20T11:19:23.000035Z",
     "start_time": "2020-01-20T11:19:22.985973Z"
    },
    "hidden": true
   },
   "outputs": [
    {
     "data": {
      "text/plain": [
       "0"
      ]
     },
     "execution_count": 253,
     "metadata": {},
     "output_type": "execute_result"
    }
   ],
   "source": [
    "np.sum(weather['timestamp'].isna())"
   ]
  },
  {
   "cell_type": "code",
   "execution_count": 254,
   "metadata": {
    "ExecuteTime": {
     "end_time": "2020-01-20T11:19:23.919344Z",
     "start_time": "2020-01-20T11:19:23.905153Z"
    },
    "hidden": true
   },
   "outputs": [
    {
     "data": {
      "text/plain": [
       "('2016-01-01 00:00:00', '2016-12-31 23:00:00')"
      ]
     },
     "execution_count": 254,
     "metadata": {},
     "output_type": "execute_result"
    }
   ],
   "source": [
    "one_site['timestamp'].min(), one_site['timestamp'].max()"
   ]
  },
  {
   "cell_type": "code",
   "execution_count": 255,
   "metadata": {
    "ExecuteTime": {
     "end_time": "2020-01-20T11:19:25.380618Z",
     "start_time": "2020-01-20T11:19:25.266007Z"
    },
    "hidden": true
   },
   "outputs": [
    {
     "data": {
      "text/html": [
       "<div>\n",
       "<style scoped>\n",
       "    .dataframe tbody tr th:only-of-type {\n",
       "        vertical-align: middle;\n",
       "    }\n",
       "\n",
       "    .dataframe tbody tr th {\n",
       "        vertical-align: top;\n",
       "    }\n",
       "\n",
       "    .dataframe thead th {\n",
       "        text-align: right;\n",
       "    }\n",
       "</style>\n",
       "<table border=\"1\" class=\"dataframe\">\n",
       "  <thead>\n",
       "    <tr style=\"text-align: right;\">\n",
       "      <th></th>\n",
       "      <th>min</th>\n",
       "      <th>max</th>\n",
       "      <th>len</th>\n",
       "    </tr>\n",
       "    <tr>\n",
       "      <th>site_id</th>\n",
       "      <th></th>\n",
       "      <th></th>\n",
       "      <th></th>\n",
       "    </tr>\n",
       "  </thead>\n",
       "  <tbody>\n",
       "    <tr>\n",
       "      <th>0</th>\n",
       "      <td>2016-01-01 00:00:00</td>\n",
       "      <td>2016-12-31 23:00:00</td>\n",
       "      <td>8784</td>\n",
       "    </tr>\n",
       "    <tr>\n",
       "      <th>1</th>\n",
       "      <td>2016-01-01 00:00:00</td>\n",
       "      <td>2016-12-31 23:00:00</td>\n",
       "      <td>8763</td>\n",
       "    </tr>\n",
       "    <tr>\n",
       "      <th>2</th>\n",
       "      <td>2016-01-01 00:00:00</td>\n",
       "      <td>2016-12-31 23:00:00</td>\n",
       "      <td>8783</td>\n",
       "    </tr>\n",
       "    <tr>\n",
       "      <th>3</th>\n",
       "      <td>2016-01-01 00:00:00</td>\n",
       "      <td>2016-12-31 23:00:00</td>\n",
       "      <td>8780</td>\n",
       "    </tr>\n",
       "    <tr>\n",
       "      <th>4</th>\n",
       "      <td>2016-01-01 01:00:00</td>\n",
       "      <td>2016-12-31 23:00:00</td>\n",
       "      <td>8783</td>\n",
       "    </tr>\n",
       "    <tr>\n",
       "      <th>5</th>\n",
       "      <td>2016-01-01 01:00:00</td>\n",
       "      <td>2016-12-31 23:00:00</td>\n",
       "      <td>8755</td>\n",
       "    </tr>\n",
       "    <tr>\n",
       "      <th>6</th>\n",
       "      <td>2016-01-01 01:00:00</td>\n",
       "      <td>2016-12-31 23:00:00</td>\n",
       "      <td>8782</td>\n",
       "    </tr>\n",
       "    <tr>\n",
       "      <th>7</th>\n",
       "      <td>2016-01-01 00:00:00</td>\n",
       "      <td>2016-12-31 23:00:00</td>\n",
       "      <td>8614</td>\n",
       "    </tr>\n",
       "    <tr>\n",
       "      <th>8</th>\n",
       "      <td>2016-01-01 00:00:00</td>\n",
       "      <td>2016-12-31 23:00:00</td>\n",
       "      <td>8784</td>\n",
       "    </tr>\n",
       "    <tr>\n",
       "      <th>9</th>\n",
       "      <td>2016-01-01 01:00:00</td>\n",
       "      <td>2016-12-31 23:00:00</td>\n",
       "      <td>8780</td>\n",
       "    </tr>\n",
       "    <tr>\n",
       "      <th>10</th>\n",
       "      <td>2016-01-01 01:00:00</td>\n",
       "      <td>2016-12-31 23:00:00</td>\n",
       "      <td>8782</td>\n",
       "    </tr>\n",
       "    <tr>\n",
       "      <th>11</th>\n",
       "      <td>2016-01-01 00:00:00</td>\n",
       "      <td>2016-12-31 23:00:00</td>\n",
       "      <td>8614</td>\n",
       "    </tr>\n",
       "    <tr>\n",
       "      <th>12</th>\n",
       "      <td>2016-01-01 00:00:00</td>\n",
       "      <td>2016-12-31 23:00:00</td>\n",
       "      <td>8755</td>\n",
       "    </tr>\n",
       "    <tr>\n",
       "      <th>13</th>\n",
       "      <td>2016-01-01 00:00:00</td>\n",
       "      <td>2016-12-31 23:00:00</td>\n",
       "      <td>8783</td>\n",
       "    </tr>\n",
       "    <tr>\n",
       "      <th>14</th>\n",
       "      <td>2016-01-01 01:00:00</td>\n",
       "      <td>2016-12-31 23:00:00</td>\n",
       "      <td>8777</td>\n",
       "    </tr>\n",
       "    <tr>\n",
       "      <th>15</th>\n",
       "      <td>2016-01-01 01:00:00</td>\n",
       "      <td>2016-12-31 23:00:00</td>\n",
       "      <td>8454</td>\n",
       "    </tr>\n",
       "  </tbody>\n",
       "</table>\n",
       "</div>"
      ],
      "text/plain": [
       "                         min                  max   len\n",
       "site_id                                                \n",
       "0        2016-01-01 00:00:00  2016-12-31 23:00:00  8784\n",
       "1        2016-01-01 00:00:00  2016-12-31 23:00:00  8763\n",
       "2        2016-01-01 00:00:00  2016-12-31 23:00:00  8783\n",
       "3        2016-01-01 00:00:00  2016-12-31 23:00:00  8780\n",
       "4        2016-01-01 01:00:00  2016-12-31 23:00:00  8783\n",
       "5        2016-01-01 01:00:00  2016-12-31 23:00:00  8755\n",
       "6        2016-01-01 01:00:00  2016-12-31 23:00:00  8782\n",
       "7        2016-01-01 00:00:00  2016-12-31 23:00:00  8614\n",
       "8        2016-01-01 00:00:00  2016-12-31 23:00:00  8784\n",
       "9        2016-01-01 01:00:00  2016-12-31 23:00:00  8780\n",
       "10       2016-01-01 01:00:00  2016-12-31 23:00:00  8782\n",
       "11       2016-01-01 00:00:00  2016-12-31 23:00:00  8614\n",
       "12       2016-01-01 00:00:00  2016-12-31 23:00:00  8755\n",
       "13       2016-01-01 00:00:00  2016-12-31 23:00:00  8783\n",
       "14       2016-01-01 01:00:00  2016-12-31 23:00:00  8777\n",
       "15       2016-01-01 01:00:00  2016-12-31 23:00:00  8454"
      ]
     },
     "execution_count": 255,
     "metadata": {},
     "output_type": "execute_result"
    }
   ],
   "source": [
    "site_group['timestamp'].agg([min, max, len])"
   ]
  },
  {
   "cell_type": "code",
   "execution_count": 256,
   "metadata": {
    "ExecuteTime": {
     "end_time": "2020-01-20T11:19:27.690277Z",
     "start_time": "2020-01-20T11:19:27.664149Z"
    },
    "hidden": true
   },
   "outputs": [
    {
     "data": {
      "text/plain": [
       "'H'"
      ]
     },
     "execution_count": 256,
     "metadata": {},
     "output_type": "execute_result"
    }
   ],
   "source": [
    "pd.infer_freq(one_site['timestamp'])"
   ]
  },
  {
   "cell_type": "code",
   "execution_count": 262,
   "metadata": {
    "ExecuteTime": {
     "end_time": "2020-01-20T11:21:48.660454Z",
     "start_time": "2020-01-20T11:21:48.066147Z"
    },
    "hidden": true
   },
   "outputs": [],
   "source": [
    "hour_group = weather.groupby(by=weather['timestamp'].map(lambda x : x.hour))"
   ]
  },
  {
   "cell_type": "code",
   "execution_count": 264,
   "metadata": {
    "ExecuteTime": {
     "end_time": "2020-01-20T11:22:25.200341Z",
     "start_time": "2020-01-20T11:22:24.541845Z"
    },
    "hidden": true
   },
   "outputs": [],
   "source": [
    "month_group = weather.groupby(by=weather['timestamp'].map(lambda x : x.month))"
   ]
  },
  {
   "cell_type": "code",
   "execution_count": 286,
   "metadata": {
    "ExecuteTime": {
     "end_time": "2020-01-20T11:38:30.964537Z",
     "start_time": "2020-01-20T11:38:30.949049Z"
    },
    "hidden": true
   },
   "outputs": [],
   "source": [
    "def plot_time_cycles(col):\n",
    "    fig, axs = plt.subplots(1, 2, figsize = (12, 5))\n",
    "    air_temperature_hour = hour_group[col].agg([min, max, np.mean, np.std])\n",
    "    air_temperature_hour['mean'].plot.bar(ax = axs[0])\n",
    "    axs[0].set_xlabel('hour')\n",
    "    axs[0].set_ylabel(col)\n",
    "    air_temperature_month = month_group[col].agg([min, max, np.mean, np.std])\n",
    "    air_temperature_month['mean'].plot.bar(ax = axs[1])\n",
    "    axs[1].set_xlabel('month')\n",
    "    axs[1].set_ylabel(col)\n",
    "    fig.suptitle(f'{col} in different times')\n",
    "    plt.show()"
   ]
  },
  {
   "cell_type": "markdown",
   "metadata": {
    "heading_collapsed": true,
    "hidden": true
   },
   "source": [
    "## air temperature"
   ]
  },
  {
   "cell_type": "markdown",
   "metadata": {
    "heading_collapsed": true,
    "hidden": true
   },
   "source": [
    "### null examination"
   ]
  },
  {
   "cell_type": "code",
   "execution_count": 521,
   "metadata": {
    "ExecuteTime": {
     "end_time": "2020-01-20T15:07:40.180018Z",
     "start_time": "2020-01-20T15:07:40.168049Z"
    },
    "hidden": true
   },
   "outputs": [
    {
     "data": {
      "text/plain": [
       "0"
      ]
     },
     "execution_count": 521,
     "metadata": {},
     "output_type": "execute_result"
    }
   ],
   "source": [
    "np.sum(weather['air_temperature'].isna())"
   ]
  },
  {
   "cell_type": "code",
   "execution_count": 522,
   "metadata": {
    "ExecuteTime": {
     "end_time": "2020-01-20T15:07:41.270463Z",
     "start_time": "2020-01-20T15:07:41.263485Z"
    },
    "hidden": true
   },
   "outputs": [
    {
     "data": {
      "text/plain": [
       "site_id\n",
       "0      3.0\n",
       "1      1.0\n",
       "2      1.0\n",
       "3      4.0\n",
       "4      0.0\n",
       "5      2.0\n",
       "6     10.0\n",
       "7      0.0\n",
       "8      3.0\n",
       "9      5.0\n",
       "10    24.0\n",
       "11     0.0\n",
       "12     0.0\n",
       "13     1.0\n",
       "14     1.0\n",
       "15     0.0\n",
       "Name: air_temperature, dtype: float64"
      ]
     },
     "execution_count": 522,
     "metadata": {},
     "output_type": "execute_result"
    }
   ],
   "source": [
    "nulls['air_temperature']"
   ]
  },
  {
   "cell_type": "markdown",
   "metadata": {
    "heading_collapsed": true,
    "hidden": true
   },
   "source": [
    "### site examination"
   ]
  },
  {
   "cell_type": "code",
   "execution_count": 523,
   "metadata": {
    "ExecuteTime": {
     "end_time": "2020-01-20T15:07:46.547582Z",
     "start_time": "2020-01-20T15:07:46.247619Z"
    },
    "hidden": true
   },
   "outputs": [
    {
     "data": {
      "image/png": "[encoded data removed]",
      "text/plain": [
       "<Figure size 432x288 with 1 Axes>"
      ]
     },
     "metadata": {
      "needs_background": "light"
     },
     "output_type": "display_data"
    }
   ],
   "source": [
    "one_site['air_temperature'].plot.hist(bins = 75)\n",
    "plt.xlabel('air_temperature')\n",
    "plt.title('air temperature in site #0')\n",
    "plt.show()"
   ]
  },
  {
   "cell_type": "code",
   "execution_count": 288,
   "metadata": {
    "ExecuteTime": {
     "end_time": "2020-01-20T11:39:07.173522Z",
     "start_time": "2020-01-20T11:39:07.131563Z"
    },
    "hidden": true
   },
   "outputs": [
    {
     "data": {
      "text/html": [
       "<div>\n",
       "<style scoped>\n",
       "    .dataframe tbody tr th:only-of-type {\n",
       "        vertical-align: middle;\n",
       "    }\n",
       "\n",
       "    .dataframe tbody tr th {\n",
       "        vertical-align: top;\n",
       "    }\n",
       "\n",
       "    .dataframe thead th {\n",
       "        text-align: right;\n",
       "    }\n",
       "</style>\n",
       "<table border=\"1\" class=\"dataframe\">\n",
       "  <thead>\n",
       "    <tr style=\"text-align: right;\">\n",
       "      <th>site_id</th>\n",
       "      <th>0</th>\n",
       "      <th>1</th>\n",
       "      <th>2</th>\n",
       "      <th>3</th>\n",
       "      <th>4</th>\n",
       "      <th>5</th>\n",
       "      <th>6</th>\n",
       "      <th>7</th>\n",
       "      <th>8</th>\n",
       "      <th>9</th>\n",
       "      <th>10</th>\n",
       "      <th>11</th>\n",
       "      <th>12</th>\n",
       "      <th>13</th>\n",
       "      <th>14</th>\n",
       "      <th>15</th>\n",
       "    </tr>\n",
       "  </thead>\n",
       "  <tbody>\n",
       "    <tr>\n",
       "      <th>min</th>\n",
       "      <td>1.700000</td>\n",
       "      <td>-3.900000</td>\n",
       "      <td>2.200000</td>\n",
       "      <td>-10.600000</td>\n",
       "      <td>1.100000</td>\n",
       "      <td>-3.000000</td>\n",
       "      <td>-13.300000</td>\n",
       "      <td>-28.800000</td>\n",
       "      <td>1.700000</td>\n",
       "      <td>-5.000000</td>\n",
       "      <td>-16.700000</td>\n",
       "      <td>-28.800000</td>\n",
       "      <td>-4.800000</td>\n",
       "      <td>-28.900000</td>\n",
       "      <td>-15.600000</td>\n",
       "      <td>-23.900000</td>\n",
       "    </tr>\n",
       "    <tr>\n",
       "      <th>max</th>\n",
       "      <td>36.100000</td>\n",
       "      <td>32.900000</td>\n",
       "      <td>47.200000</td>\n",
       "      <td>37.800000</td>\n",
       "      <td>35.000000</td>\n",
       "      <td>30.000000</td>\n",
       "      <td>37.200000</td>\n",
       "      <td>33.900000</td>\n",
       "      <td>36.100000</td>\n",
       "      <td>39.400000</td>\n",
       "      <td>37.200000</td>\n",
       "      <td>33.900000</td>\n",
       "      <td>26.000000</td>\n",
       "      <td>35.600000</td>\n",
       "      <td>35.600000</td>\n",
       "      <td>33.900000</td>\n",
       "    </tr>\n",
       "    <tr>\n",
       "      <th>mean</th>\n",
       "      <td>22.836021</td>\n",
       "      <td>11.711801</td>\n",
       "      <td>24.940321</td>\n",
       "      <td>15.520579</td>\n",
       "      <td>15.236366</td>\n",
       "      <td>10.867931</td>\n",
       "      <td>15.141678</td>\n",
       "      <td>7.888867</td>\n",
       "      <td>22.836021</td>\n",
       "      <td>21.367499</td>\n",
       "      <td>11.644679</td>\n",
       "      <td>7.888867</td>\n",
       "      <td>9.843232</td>\n",
       "      <td>9.879617</td>\n",
       "      <td>13.258409</td>\n",
       "      <td>9.357618</td>\n",
       "    </tr>\n",
       "    <tr>\n",
       "      <th>std</th>\n",
       "      <td>6.037417</td>\n",
       "      <td>6.139000</td>\n",
       "      <td>9.119835</td>\n",
       "      <td>10.061688</td>\n",
       "      <td>4.014637</td>\n",
       "      <td>5.091477</td>\n",
       "      <td>9.941153</td>\n",
       "      <td>12.218509</td>\n",
       "      <td>6.037417</td>\n",
       "      <td>7.986912</td>\n",
       "      <td>11.156459</td>\n",
       "      <td>12.218509</td>\n",
       "      <td>5.157759</td>\n",
       "      <td>12.405877</td>\n",
       "      <td>10.254210</td>\n",
       "      <td>10.846760</td>\n",
       "    </tr>\n",
       "  </tbody>\n",
       "</table>\n",
       "</div>"
      ],
      "text/plain": [
       "site_id         0          1          2          3          4          5   \\\n",
       "min       1.700000  -3.900000   2.200000 -10.600000   1.100000  -3.000000   \n",
       "max      36.100000  32.900000  47.200000  37.800000  35.000000  30.000000   \n",
       "mean     22.836021  11.711801  24.940321  15.520579  15.236366  10.867931   \n",
       "std       6.037417   6.139000   9.119835  10.061688   4.014637   5.091477   \n",
       "\n",
       "site_id         6          7          8          9          10         11  \\\n",
       "min     -13.300000 -28.800000   1.700000  -5.000000 -16.700000 -28.800000   \n",
       "max      37.200000  33.900000  36.100000  39.400000  37.200000  33.900000   \n",
       "mean     15.141678   7.888867  22.836021  21.367499  11.644679   7.888867   \n",
       "std       9.941153  12.218509   6.037417   7.986912  11.156459  12.218509   \n",
       "\n",
       "site_id         12         13         14         15  \n",
       "min      -4.800000 -28.900000 -15.600000 -23.900000  \n",
       "max      26.000000  35.600000  35.600000  33.900000  \n",
       "mean      9.843232   9.879617  13.258409   9.357618  \n",
       "std       5.157759  12.405877  10.254210  10.846760  "
      ]
     },
     "execution_count": 288,
     "metadata": {},
     "output_type": "execute_result"
    }
   ],
   "source": [
    "air_temperature = site_group['air_temperature'].agg([min, max, np.mean, np.std])\n",
    "air_temperature.T"
   ]
  },
  {
   "cell_type": "code",
   "execution_count": 524,
   "metadata": {
    "ExecuteTime": {
     "end_time": "2020-01-20T15:07:51.186512Z",
     "start_time": "2020-01-20T15:07:51.016280Z"
    },
    "hidden": true
   },
   "outputs": [
    {
     "data": {
      "image/png": "[encoded data removed]",
      "text/plain": [
       "<Figure size 432x288 with 1 Axes>"
      ]
     },
     "metadata": {
      "needs_background": "light"
     },
     "output_type": "display_data"
    }
   ],
   "source": [
    "air_temperature['mean'].plot.bar()\n",
    "plt.ylabel('mean temp')\n",
    "plt.show()"
   ]
  },
  {
   "cell_type": "markdown",
   "metadata": {
    "heading_collapsed": true,
    "hidden": true
   },
   "source": [
    "### time examination"
   ]
  },
  {
   "cell_type": "code",
   "execution_count": 525,
   "metadata": {
    "ExecuteTime": {
     "end_time": "2020-01-20T15:07:58.226123Z",
     "start_time": "2020-01-20T15:07:57.855339Z"
    },
    "hidden": true
   },
   "outputs": [
    {
     "data": {
      "image/png": "[encoded data removed]",
      "text/plain": [
       "<Figure size 864x360 with 2 Axes>"
      ]
     },
     "metadata": {
      "needs_background": "light"
     },
     "output_type": "display_data"
    }
   ],
   "source": [
    "plot_time_cycles('air_temperature')"
   ]
  },
  {
   "cell_type": "markdown",
   "metadata": {
    "heading_collapsed": true,
    "hidden": true
   },
   "source": [
    "## cloud coverage"
   ]
  },
  {
   "cell_type": "markdown",
   "metadata": {
    "heading_collapsed": true,
    "hidden": true
   },
   "source": [
    "### null examination"
   ]
  },
  {
   "cell_type": "code",
   "execution_count": 186,
   "metadata": {
    "ExecuteTime": {
     "end_time": "2020-01-20T10:43:40.683417Z",
     "start_time": "2020-01-20T10:43:40.666954Z"
    },
    "hidden": true
   },
   "outputs": [
    {
     "data": {
      "text/plain": [
       "69173"
      ]
     },
     "execution_count": 186,
     "metadata": {},
     "output_type": "execute_result"
    }
   ],
   "source": [
    "np.sum(weather['cloud_coverage'].isna())"
   ]
  },
  {
   "cell_type": "code",
   "execution_count": 187,
   "metadata": {
    "ExecuteTime": {
     "end_time": "2020-01-20T10:43:41.950779Z",
     "start_time": "2020-01-20T10:43:41.794707Z"
    },
    "hidden": true
   },
   "outputs": [
    {
     "data": {
      "image/png": "[encoded data removed]",
      "text/plain": [
       "<Figure size 432x288 with 1 Axes>"
      ]
     },
     "metadata": {
      "needs_background": "light"
     },
     "output_type": "display_data"
    }
   ],
   "source": [
    "nulls['cloud_coverage'].plot.bar()\n",
    "plt.show()"
   ]
  },
  {
   "cell_type": "code",
   "execution_count": 318,
   "metadata": {
    "ExecuteTime": {
     "end_time": "2020-01-20T12:31:45.695309Z",
     "start_time": "2020-01-20T12:31:45.346761Z"
    },
    "code_folding": [],
    "hidden": true
   },
   "outputs": [
    {
     "data": {
      "image/png": "[encoded data removed]",
      "text/plain": [
       "<Figure size 432x288 with 1 Axes>"
      ]
     },
     "metadata": {
      "needs_background": "light"
     },
     "output_type": "display_data"
    }
   ],
   "source": [
    "#check that the ability to work with this feature in site 12 remains in test data\n",
    "test_nulls['cloud_coverage'].plot.bar()\n",
    "plt.show()"
   ]
  },
  {
   "cell_type": "markdown",
   "metadata": {
    "heading_collapsed": true,
    "hidden": true
   },
   "source": [
    "### value examination"
   ]
  },
  {
   "cell_type": "code",
   "execution_count": 188,
   "metadata": {
    "ExecuteTime": {
     "end_time": "2020-01-20T10:43:43.789374Z",
     "start_time": "2020-01-20T10:43:43.778470Z"
    },
    "hidden": true
   },
   "outputs": [
    {
     "data": {
      "text/plain": [
       "[6.0, nan, 0.0, 1.0, 2.0, 3.0, 4.0, 5.0, 7.0, 8.0, 9.0]"
      ]
     },
     "execution_count": 188,
     "metadata": {},
     "output_type": "execute_result"
    }
   ],
   "source": [
    "sorted(weather['cloud_coverage'].unique())"
   ]
  },
  {
   "cell_type": "markdown",
   "metadata": {
    "heading_collapsed": true,
    "hidden": true
   },
   "source": [
    "### site examination"
   ]
  },
  {
   "cell_type": "code",
   "execution_count": 189,
   "metadata": {
    "ExecuteTime": {
     "end_time": "2020-01-20T10:43:45.548271Z",
     "start_time": "2020-01-20T10:43:45.524433Z"
    },
    "hidden": true
   },
   "outputs": [
    {
     "data": {
      "text/html": [
       "<div>\n",
       "<style scoped>\n",
       "    .dataframe tbody tr th:only-of-type {\n",
       "        vertical-align: middle;\n",
       "    }\n",
       "\n",
       "    .dataframe tbody tr th {\n",
       "        vertical-align: top;\n",
       "    }\n",
       "\n",
       "    .dataframe thead th {\n",
       "        text-align: right;\n",
       "    }\n",
       "</style>\n",
       "<table border=\"1\" class=\"dataframe\">\n",
       "  <thead>\n",
       "    <tr style=\"text-align: right;\">\n",
       "      <th>site_id</th>\n",
       "      <th>0</th>\n",
       "      <th>1</th>\n",
       "      <th>2</th>\n",
       "      <th>3</th>\n",
       "      <th>4</th>\n",
       "      <th>5</th>\n",
       "      <th>6</th>\n",
       "      <th>7</th>\n",
       "      <th>8</th>\n",
       "      <th>9</th>\n",
       "      <th>10</th>\n",
       "      <th>11</th>\n",
       "      <th>12</th>\n",
       "      <th>13</th>\n",
       "      <th>14</th>\n",
       "      <th>15</th>\n",
       "    </tr>\n",
       "  </thead>\n",
       "  <tbody>\n",
       "    <tr>\n",
       "      <th>min</th>\n",
       "      <td>0.00000</td>\n",
       "      <td>0.000000</td>\n",
       "      <td>0.000000</td>\n",
       "      <td>0.000000</td>\n",
       "      <td>0.000000</td>\n",
       "      <td>0.000000</td>\n",
       "      <td>0.000000</td>\n",
       "      <td>NaN</td>\n",
       "      <td>0.00000</td>\n",
       "      <td>0.000000</td>\n",
       "      <td>0.00000</td>\n",
       "      <td>NaN</td>\n",
       "      <td>0.000000</td>\n",
       "      <td>0.000000</td>\n",
       "      <td>0.000000</td>\n",
       "      <td>0.000000</td>\n",
       "    </tr>\n",
       "    <tr>\n",
       "      <th>max</th>\n",
       "      <td>9.00000</td>\n",
       "      <td>9.000000</td>\n",
       "      <td>9.000000</td>\n",
       "      <td>9.000000</td>\n",
       "      <td>9.000000</td>\n",
       "      <td>9.000000</td>\n",
       "      <td>9.000000</td>\n",
       "      <td>NaN</td>\n",
       "      <td>9.00000</td>\n",
       "      <td>9.000000</td>\n",
       "      <td>9.00000</td>\n",
       "      <td>NaN</td>\n",
       "      <td>8.000000</td>\n",
       "      <td>9.000000</td>\n",
       "      <td>9.000000</td>\n",
       "      <td>9.000000</td>\n",
       "    </tr>\n",
       "    <tr>\n",
       "      <th>mean</th>\n",
       "      <td>3.04461</td>\n",
       "      <td>0.084656</td>\n",
       "      <td>1.958469</td>\n",
       "      <td>3.879136</td>\n",
       "      <td>1.867999</td>\n",
       "      <td>0.290642</td>\n",
       "      <td>0.647668</td>\n",
       "      <td>NaN</td>\n",
       "      <td>3.04461</td>\n",
       "      <td>0.610673</td>\n",
       "      <td>0.37650</td>\n",
       "      <td>NaN</td>\n",
       "      <td>5.723091</td>\n",
       "      <td>2.873133</td>\n",
       "      <td>0.562203</td>\n",
       "      <td>1.109988</td>\n",
       "    </tr>\n",
       "    <tr>\n",
       "      <th>std</th>\n",
       "      <td>2.11878</td>\n",
       "      <td>0.869012</td>\n",
       "      <td>1.914228</td>\n",
       "      <td>2.733435</td>\n",
       "      <td>1.360669</td>\n",
       "      <td>1.591300</td>\n",
       "      <td>1.628221</td>\n",
       "      <td>NaN</td>\n",
       "      <td>2.11878</td>\n",
       "      <td>1.337819</td>\n",
       "      <td>1.33104</td>\n",
       "      <td>NaN</td>\n",
       "      <td>2.242288</td>\n",
       "      <td>2.713202</td>\n",
       "      <td>1.480298</td>\n",
       "      <td>1.679775</td>\n",
       "    </tr>\n",
       "  </tbody>\n",
       "</table>\n",
       "</div>"
      ],
      "text/plain": [
       "site_id       0         1         2         3         4         5         6   \\\n",
       "min      0.00000  0.000000  0.000000  0.000000  0.000000  0.000000  0.000000   \n",
       "max      9.00000  9.000000  9.000000  9.000000  9.000000  9.000000  9.000000   \n",
       "mean     3.04461  0.084656  1.958469  3.879136  1.867999  0.290642  0.647668   \n",
       "std      2.11878  0.869012  1.914228  2.733435  1.360669  1.591300  1.628221   \n",
       "\n",
       "site_id  7        8         9        10  11        12        13        14  \\\n",
       "min     NaN  0.00000  0.000000  0.00000 NaN  0.000000  0.000000  0.000000   \n",
       "max     NaN  9.00000  9.000000  9.00000 NaN  8.000000  9.000000  9.000000   \n",
       "mean    NaN  3.04461  0.610673  0.37650 NaN  5.723091  2.873133  0.562203   \n",
       "std     NaN  2.11878  1.337819  1.33104 NaN  2.242288  2.713202  1.480298   \n",
       "\n",
       "site_id        15  \n",
       "min      0.000000  \n",
       "max      9.000000  \n",
       "mean     1.109988  \n",
       "std      1.679775  "
      ]
     },
     "execution_count": 189,
     "metadata": {},
     "output_type": "execute_result"
    }
   ],
   "source": [
    "cloud_coverage = site_group['cloud_coverage'].agg([min, max, np.mean, np.std]).T\n",
    "cloud_coverage"
   ]
  },
  {
   "cell_type": "markdown",
   "metadata": {
    "heading_collapsed": true,
    "hidden": true
   },
   "source": [
    "### time examination"
   ]
  },
  {
   "cell_type": "code",
   "execution_count": 290,
   "metadata": {
    "ExecuteTime": {
     "end_time": "2020-01-20T11:41:36.892626Z",
     "start_time": "2020-01-20T11:41:36.147439Z"
    },
    "hidden": true
   },
   "outputs": [
    {
     "data": {
      "image/png": "[encoded data removed]",
      "text/plain": [
       "<Figure size 864x360 with 2 Axes>"
      ]
     },
     "metadata": {
      "needs_background": "light"
     },
     "output_type": "display_data"
    }
   ],
   "source": [
    "plot_time_cycles('cloud_coverage')"
   ]
  },
  {
   "cell_type": "markdown",
   "metadata": {
    "heading_collapsed": true,
    "hidden": true
   },
   "source": [
    "## dew temperature"
   ]
  },
  {
   "cell_type": "markdown",
   "metadata": {
    "heading_collapsed": true,
    "hidden": true
   },
   "source": [
    "### null examination"
   ]
  },
  {
   "cell_type": "code",
   "execution_count": 190,
   "metadata": {
    "ExecuteTime": {
     "end_time": "2020-01-20T10:44:01.160336Z",
     "start_time": "2020-01-20T10:44:01.154310Z"
    },
    "hidden": true
   },
   "outputs": [
    {
     "data": {
      "text/plain": [
       "113"
      ]
     },
     "execution_count": 190,
     "metadata": {},
     "output_type": "execute_result"
    }
   ],
   "source": [
    "np.sum(weather['dew_temperature'].isna())"
   ]
  },
  {
   "cell_type": "code",
   "execution_count": 191,
   "metadata": {
    "ExecuteTime": {
     "end_time": "2020-01-20T10:44:06.041154Z",
     "start_time": "2020-01-20T10:44:06.035171Z"
    },
    "hidden": true
   },
   "outputs": [
    {
     "data": {
      "text/plain": [
       "site_id\n",
       "0      3.0\n",
       "1      1.0\n",
       "2      1.0\n",
       "3      6.0\n",
       "4      2.0\n",
       "5      2.0\n",
       "6     10.0\n",
       "7     23.0\n",
       "8      3.0\n",
       "9      7.0\n",
       "10    27.0\n",
       "11    23.0\n",
       "12     0.0\n",
       "13     1.0\n",
       "14     1.0\n",
       "15     3.0\n",
       "Name: dew_temperature, dtype: float64"
      ]
     },
     "execution_count": 191,
     "metadata": {},
     "output_type": "execute_result"
    }
   ],
   "source": [
    "nulls['dew_temperature']"
   ]
  },
  {
   "cell_type": "markdown",
   "metadata": {
    "heading_collapsed": true,
    "hidden": true
   },
   "source": [
    "### site examination"
   ]
  },
  {
   "cell_type": "code",
   "execution_count": 192,
   "metadata": {
    "ExecuteTime": {
     "end_time": "2020-01-20T10:44:07.357338Z",
     "start_time": "2020-01-20T10:44:07.154955Z"
    },
    "hidden": true
   },
   "outputs": [
    {
     "data": {
      "image/png": "[encoded data removed]",
      "text/plain": [
       "<Figure size 432x288 with 1 Axes>"
      ]
     },
     "metadata": {
      "needs_background": "light"
     },
     "output_type": "display_data"
    }
   ],
   "source": [
    "one_site['dew_temperature'].plot.hist(bins = 35)\n",
    "plt.xlabel('dew_temperature')\n",
    "plt.title('dew temperature in site #0')\n",
    "plt.show()"
   ]
  },
  {
   "cell_type": "code",
   "execution_count": 193,
   "metadata": {
    "ExecuteTime": {
     "end_time": "2020-01-20T10:44:08.247890Z",
     "start_time": "2020-01-20T10:44:08.219555Z"
    },
    "hidden": true
   },
   "outputs": [
    {
     "data": {
      "text/html": [
       "<div>\n",
       "<style scoped>\n",
       "    .dataframe tbody tr th:only-of-type {\n",
       "        vertical-align: middle;\n",
       "    }\n",
       "\n",
       "    .dataframe tbody tr th {\n",
       "        vertical-align: top;\n",
       "    }\n",
       "\n",
       "    .dataframe thead th {\n",
       "        text-align: right;\n",
       "    }\n",
       "</style>\n",
       "<table border=\"1\" class=\"dataframe\">\n",
       "  <thead>\n",
       "    <tr style=\"text-align: right;\">\n",
       "      <th>site_id</th>\n",
       "      <th>0</th>\n",
       "      <th>1</th>\n",
       "      <th>2</th>\n",
       "      <th>3</th>\n",
       "      <th>4</th>\n",
       "      <th>5</th>\n",
       "      <th>6</th>\n",
       "      <th>7</th>\n",
       "      <th>8</th>\n",
       "      <th>9</th>\n",
       "      <th>10</th>\n",
       "      <th>11</th>\n",
       "      <th>12</th>\n",
       "      <th>13</th>\n",
       "      <th>14</th>\n",
       "      <th>15</th>\n",
       "    </tr>\n",
       "  </thead>\n",
       "  <tbody>\n",
       "    <tr>\n",
       "      <th>min</th>\n",
       "      <td>-9.400000</td>\n",
       "      <td>-8.900000</td>\n",
       "      <td>-17.200000</td>\n",
       "      <td>-22.800000</td>\n",
       "      <td>-9.400000</td>\n",
       "      <td>-6.000000</td>\n",
       "      <td>-23.300000</td>\n",
       "      <td>-35.000000</td>\n",
       "      <td>-9.400000</td>\n",
       "      <td>-13.300000</td>\n",
       "      <td>-20.000000</td>\n",
       "      <td>-35.000000</td>\n",
       "      <td>-5.300000</td>\n",
       "      <td>-31.700000</td>\n",
       "      <td>-25.600000</td>\n",
       "      <td>-26.700000</td>\n",
       "    </tr>\n",
       "    <tr>\n",
       "      <th>max</th>\n",
       "      <td>25.600000</td>\n",
       "      <td>20.700000</td>\n",
       "      <td>23.300000</td>\n",
       "      <td>26.100000</td>\n",
       "      <td>18.300000</td>\n",
       "      <td>19.000000</td>\n",
       "      <td>24.400000</td>\n",
       "      <td>22.900000</td>\n",
       "      <td>25.600000</td>\n",
       "      <td>26.100000</td>\n",
       "      <td>15.000000</td>\n",
       "      <td>22.900000</td>\n",
       "      <td>18.300000</td>\n",
       "      <td>25.000000</td>\n",
       "      <td>25.600000</td>\n",
       "      <td>24.400000</td>\n",
       "    </tr>\n",
       "    <tr>\n",
       "      <th>mean</th>\n",
       "      <td>16.817880</td>\n",
       "      <td>7.646473</td>\n",
       "      <td>4.069506</td>\n",
       "      <td>8.126214</td>\n",
       "      <td>9.894750</td>\n",
       "      <td>8.194676</td>\n",
       "      <td>7.320691</td>\n",
       "      <td>1.905913</td>\n",
       "      <td>16.817880</td>\n",
       "      <td>14.613302</td>\n",
       "      <td>0.082273</td>\n",
       "      <td>1.905913</td>\n",
       "      <td>6.519966</td>\n",
       "      <td>3.401731</td>\n",
       "      <td>5.775160</td>\n",
       "      <td>4.140469</td>\n",
       "    </tr>\n",
       "    <tr>\n",
       "      <th>std</th>\n",
       "      <td>6.519374</td>\n",
       "      <td>5.216089</td>\n",
       "      <td>7.619125</td>\n",
       "      <td>10.688443</td>\n",
       "      <td>3.529137</td>\n",
       "      <td>4.968643</td>\n",
       "      <td>11.108064</td>\n",
       "      <td>10.773200</td>\n",
       "      <td>6.519374</td>\n",
       "      <td>8.502967</td>\n",
       "      <td>5.582579</td>\n",
       "      <td>10.773200</td>\n",
       "      <td>4.615672</td>\n",
       "      <td>11.385367</td>\n",
       "      <td>10.606409</td>\n",
       "      <td>9.998072</td>\n",
       "    </tr>\n",
       "  </tbody>\n",
       "</table>\n",
       "</div>"
      ],
      "text/plain": [
       "site_id         0          1          2          3          4          5   \\\n",
       "min      -9.400000  -8.900000 -17.200000 -22.800000  -9.400000  -6.000000   \n",
       "max      25.600000  20.700000  23.300000  26.100000  18.300000  19.000000   \n",
       "mean     16.817880   7.646473   4.069506   8.126214   9.894750   8.194676   \n",
       "std       6.519374   5.216089   7.619125  10.688443   3.529137   4.968643   \n",
       "\n",
       "site_id         6          7          8          9          10         11  \\\n",
       "min     -23.300000 -35.000000  -9.400000 -13.300000 -20.000000 -35.000000   \n",
       "max      24.400000  22.900000  25.600000  26.100000  15.000000  22.900000   \n",
       "mean      7.320691   1.905913  16.817880  14.613302   0.082273   1.905913   \n",
       "std      11.108064  10.773200   6.519374   8.502967   5.582579  10.773200   \n",
       "\n",
       "site_id         12         13         14         15  \n",
       "min      -5.300000 -31.700000 -25.600000 -26.700000  \n",
       "max      18.300000  25.000000  25.600000  24.400000  \n",
       "mean      6.519966   3.401731   5.775160   4.140469  \n",
       "std       4.615672  11.385367  10.606409   9.998072  "
      ]
     },
     "execution_count": 193,
     "metadata": {},
     "output_type": "execute_result"
    }
   ],
   "source": [
    "dew_temperature = site_group['dew_temperature'].agg([min, max, np.mean, np.std])\n",
    "dew_temperature.T"
   ]
  },
  {
   "cell_type": "code",
   "execution_count": 194,
   "metadata": {
    "ExecuteTime": {
     "end_time": "2020-01-20T10:44:09.361267Z",
     "start_time": "2020-01-20T10:44:09.194837Z"
    },
    "hidden": true
   },
   "outputs": [
    {
     "data": {
      "image/png": "[encoded data removed]",
      "text/plain": [
       "<Figure size 432x288 with 1 Axes>"
      ]
     },
     "metadata": {
      "needs_background": "light"
     },
     "output_type": "display_data"
    }
   ],
   "source": [
    "dew_temperature['mean'].plot.bar()\n",
    "plt.show()"
   ]
  },
  {
   "cell_type": "code",
   "execution_count": 195,
   "metadata": {
    "ExecuteTime": {
     "end_time": "2020-01-20T10:44:10.394671Z",
     "start_time": "2020-01-20T10:44:10.387708Z"
    },
    "hidden": true
   },
   "outputs": [
    {
     "data": {
      "text/plain": [
       "site_id\n",
       "0     True\n",
       "1     True\n",
       "2     True\n",
       "3     True\n",
       "4     True\n",
       "5     True\n",
       "6     True\n",
       "7     True\n",
       "8     True\n",
       "9     True\n",
       "10    True\n",
       "11    True\n",
       "12    True\n",
       "13    True\n",
       "14    True\n",
       "15    True\n",
       "Name: mean, dtype: bool"
      ]
     },
     "execution_count": 195,
     "metadata": {},
     "output_type": "execute_result"
    }
   ],
   "source": [
    "dew_temperature['mean'] < air_temperature['mean']"
   ]
  },
  {
   "cell_type": "markdown",
   "metadata": {
    "heading_collapsed": true,
    "hidden": true
   },
   "source": [
    "### time examination"
   ]
  },
  {
   "cell_type": "code",
   "execution_count": 291,
   "metadata": {
    "ExecuteTime": {
     "end_time": "2020-01-20T11:52:52.056757Z",
     "start_time": "2020-01-20T11:52:51.203388Z"
    },
    "hidden": true
   },
   "outputs": [
    {
     "data": {
      "image/png": "[encoded data removed]",
      "text/plain": [
       "<Figure size 864x360 with 2 Axes>"
      ]
     },
     "metadata": {
      "needs_background": "light"
     },
     "output_type": "display_data"
    }
   ],
   "source": [
    "plot_time_cycles('dew_temperature')"
   ]
  },
  {
   "cell_type": "markdown",
   "metadata": {
    "heading_collapsed": true,
    "hidden": true
   },
   "source": [
    "## precipitation depth"
   ]
  },
  {
   "cell_type": "markdown",
   "metadata": {
    "heading_collapsed": true,
    "hidden": true
   },
   "source": [
    "### null examination"
   ]
  },
  {
   "cell_type": "code",
   "execution_count": 196,
   "metadata": {
    "ExecuteTime": {
     "end_time": "2020-01-20T10:45:32.523210Z",
     "start_time": "2020-01-20T10:45:32.506374Z"
    },
    "hidden": true
   },
   "outputs": [
    {
     "data": {
      "text/plain": [
       "50289"
      ]
     },
     "execution_count": 196,
     "metadata": {},
     "output_type": "execute_result"
    }
   ],
   "source": [
    "np.sum(weather['precip_depth_1_hr'].isna())"
   ]
  },
  {
   "cell_type": "code",
   "execution_count": 197,
   "metadata": {
    "ExecuteTime": {
     "end_time": "2020-01-20T10:49:01.700575Z",
     "start_time": "2020-01-20T10:49:01.684141Z"
    },
    "hidden": true
   },
   "outputs": [
    {
     "data": {
      "text/plain": [
       "site_id\n",
       "0        1.0\n",
       "1     8763.0\n",
       "2       66.0\n",
       "3       37.0\n",
       "4     1317.0\n",
       "5     8755.0\n",
       "6        0.0\n",
       "7     7883.0\n",
       "8        1.0\n",
       "9        7.0\n",
       "10      27.0\n",
       "11    7883.0\n",
       "12    8755.0\n",
       "13      12.0\n",
       "14      31.0\n",
       "15    6751.0\n",
       "Name: precip_depth_1_hr, dtype: float64"
      ]
     },
     "execution_count": 197,
     "metadata": {},
     "output_type": "execute_result"
    }
   ],
   "source": [
    "nulls['precip_depth_1_hr']"
   ]
  },
  {
   "cell_type": "code",
   "execution_count": 320,
   "metadata": {
    "ExecuteTime": {
     "end_time": "2020-01-20T12:33:31.610321Z",
     "start_time": "2020-01-20T12:33:31.593631Z"
    },
    "hidden": true
   },
   "outputs": [
    {
     "data": {
      "text/plain": [
       "site_id\n",
       "0        30.0\n",
       "1     17287.0\n",
       "2        21.0\n",
       "3        44.0\n",
       "4       282.0\n",
       "5     17241.0\n",
       "6        44.0\n",
       "7     14776.0\n",
       "8        30.0\n",
       "9        63.0\n",
       "10       38.0\n",
       "11    14776.0\n",
       "12    17279.0\n",
       "13      543.0\n",
       "14       99.0\n",
       "15    13035.0\n",
       "Name: precip_depth_1_hr, dtype: float64"
      ]
     },
     "execution_count": 320,
     "metadata": {},
     "output_type": "execute_result"
    }
   ],
   "source": [
    "#check that the problem to work with this feature in site 1, 5, 7, 11, 12, 15 remains in test data\n",
    "test_nulls['precip_depth_1_hr']"
   ]
  },
  {
   "cell_type": "markdown",
   "metadata": {
    "heading_collapsed": true,
    "hidden": true
   },
   "source": [
    "### value examination"
   ]
  },
  {
   "cell_type": "code",
   "execution_count": 295,
   "metadata": {
    "ExecuteTime": {
     "end_time": "2020-01-20T12:13:47.749738Z",
     "start_time": "2020-01-20T12:13:47.738235Z"
    },
    "hidden": true
   },
   "outputs": [
    {
     "data": {
      "text/plain": [
       "77910"
      ]
     },
     "execution_count": 295,
     "metadata": {},
     "output_type": "execute_result"
    }
   ],
   "source": [
    "weather['precip_depth_1_hr'].value_counts()[0]"
   ]
  },
  {
   "cell_type": "code",
   "execution_count": 199,
   "metadata": {
    "ExecuteTime": {
     "end_time": "2020-01-20T10:49:20.013382Z",
     "start_time": "2020-01-20T10:49:19.836413Z"
    },
    "hidden": true
   },
   "outputs": [
    {
     "data": {
      "image/png": "[encoded data removed]",
      "text/plain": [
       "<Figure size 432x288 with 1 Axes>"
      ]
     },
     "metadata": {
      "needs_background": "light"
     },
     "output_type": "display_data"
    }
   ],
   "source": [
    "one_site['precip_depth_1_hr'][one_site['precip_depth_1_hr'] < 40].plot.hist(bins = 20)\n",
    "plt.show()"
   ]
  },
  {
   "cell_type": "code",
   "execution_count": 299,
   "metadata": {
    "ExecuteTime": {
     "end_time": "2020-01-20T12:16:22.139354Z",
     "start_time": "2020-01-20T12:16:22.115489Z"
    },
    "hidden": true
   },
   "outputs": [
    {
     "data": {
      "text/plain": [
       "(5794, 9)"
      ]
     },
     "execution_count": 299,
     "metadata": {},
     "output_type": "execute_result"
    }
   ],
   "source": [
    "rainy_weather = weather[weather['precip_depth_1_hr'] > 0]\n",
    "rainy_weather.shape"
   ]
  },
  {
   "cell_type": "markdown",
   "metadata": {
    "heading_collapsed": true,
    "hidden": true
   },
   "source": [
    "### site examination"
   ]
  },
  {
   "cell_type": "code",
   "execution_count": 306,
   "metadata": {
    "ExecuteTime": {
     "end_time": "2020-01-20T12:19:25.971805Z",
     "start_time": "2020-01-20T12:19:25.947134Z"
    },
    "hidden": true
   },
   "outputs": [
    {
     "data": {
      "text/html": [
       "<div>\n",
       "<style scoped>\n",
       "    .dataframe tbody tr th:only-of-type {\n",
       "        vertical-align: middle;\n",
       "    }\n",
       "\n",
       "    .dataframe tbody tr th {\n",
       "        vertical-align: top;\n",
       "    }\n",
       "\n",
       "    .dataframe thead th {\n",
       "        text-align: right;\n",
       "    }\n",
       "</style>\n",
       "<table border=\"1\" class=\"dataframe\">\n",
       "  <thead>\n",
       "    <tr style=\"text-align: right;\">\n",
       "      <th>site_id</th>\n",
       "      <th>0</th>\n",
       "      <th>2</th>\n",
       "      <th>3</th>\n",
       "      <th>4</th>\n",
       "      <th>6</th>\n",
       "      <th>7</th>\n",
       "      <th>8</th>\n",
       "      <th>9</th>\n",
       "      <th>10</th>\n",
       "      <th>11</th>\n",
       "      <th>13</th>\n",
       "      <th>14</th>\n",
       "      <th>15</th>\n",
       "    </tr>\n",
       "  </thead>\n",
       "  <tbody>\n",
       "    <tr>\n",
       "      <th>min</th>\n",
       "      <td>2.000000</td>\n",
       "      <td>2.000000</td>\n",
       "      <td>2.000000</td>\n",
       "      <td>2.000000</td>\n",
       "      <td>2.000000</td>\n",
       "      <td>2.000000</td>\n",
       "      <td>2.000000</td>\n",
       "      <td>2.000000</td>\n",
       "      <td>2.000000</td>\n",
       "      <td>2.000000</td>\n",
       "      <td>2.000000</td>\n",
       "      <td>2.000000</td>\n",
       "      <td>2.000000</td>\n",
       "    </tr>\n",
       "    <tr>\n",
       "      <th>max</th>\n",
       "      <td>343.000000</td>\n",
       "      <td>132.000000</td>\n",
       "      <td>198.000000</td>\n",
       "      <td>124.000000</td>\n",
       "      <td>198.000000</td>\n",
       "      <td>262.000000</td>\n",
       "      <td>343.000000</td>\n",
       "      <td>203.000000</td>\n",
       "      <td>79.000000</td>\n",
       "      <td>262.000000</td>\n",
       "      <td>216.000000</td>\n",
       "      <td>150.000000</td>\n",
       "      <td>333.000000</td>\n",
       "    </tr>\n",
       "    <tr>\n",
       "      <th>mean</th>\n",
       "      <td>30.731051</td>\n",
       "      <td>15.778947</td>\n",
       "      <td>14.113924</td>\n",
       "      <td>14.557692</td>\n",
       "      <td>14.819444</td>\n",
       "      <td>11.350205</td>\n",
       "      <td>30.731051</td>\n",
       "      <td>19.461111</td>\n",
       "      <td>10.834550</td>\n",
       "      <td>11.350205</td>\n",
       "      <td>16.531128</td>\n",
       "      <td>13.979960</td>\n",
       "      <td>14.279441</td>\n",
       "    </tr>\n",
       "    <tr>\n",
       "      <th>std</th>\n",
       "      <td>52.028565</td>\n",
       "      <td>22.504458</td>\n",
       "      <td>19.555410</td>\n",
       "      <td>17.964567</td>\n",
       "      <td>22.317988</td>\n",
       "      <td>21.274216</td>\n",
       "      <td>52.028565</td>\n",
       "      <td>30.432786</td>\n",
       "      <td>11.265612</td>\n",
       "      <td>21.274216</td>\n",
       "      <td>27.908232</td>\n",
       "      <td>19.385841</td>\n",
       "      <td>27.324893</td>\n",
       "    </tr>\n",
       "    <tr>\n",
       "      <th>len</th>\n",
       "      <td>409.000000</td>\n",
       "      <td>95.000000</td>\n",
       "      <td>474.000000</td>\n",
       "      <td>156.000000</td>\n",
       "      <td>504.000000</td>\n",
       "      <td>731.000000</td>\n",
       "      <td>409.000000</td>\n",
       "      <td>360.000000</td>\n",
       "      <td>411.000000</td>\n",
       "      <td>731.000000</td>\n",
       "      <td>514.000000</td>\n",
       "      <td>499.000000</td>\n",
       "      <td>501.000000</td>\n",
       "    </tr>\n",
       "  </tbody>\n",
       "</table>\n",
       "</div>"
      ],
      "text/plain": [
       "site_id          0           2           3           4           6   \\\n",
       "min        2.000000    2.000000    2.000000    2.000000    2.000000   \n",
       "max      343.000000  132.000000  198.000000  124.000000  198.000000   \n",
       "mean      30.731051   15.778947   14.113924   14.557692   14.819444   \n",
       "std       52.028565   22.504458   19.555410   17.964567   22.317988   \n",
       "len      409.000000   95.000000  474.000000  156.000000  504.000000   \n",
       "\n",
       "site_id          7           8           9           10          11  \\\n",
       "min        2.000000    2.000000    2.000000    2.000000    2.000000   \n",
       "max      262.000000  343.000000  203.000000   79.000000  262.000000   \n",
       "mean      11.350205   30.731051   19.461111   10.834550   11.350205   \n",
       "std       21.274216   52.028565   30.432786   11.265612   21.274216   \n",
       "len      731.000000  409.000000  360.000000  411.000000  731.000000   \n",
       "\n",
       "site_id          13          14          15  \n",
       "min        2.000000    2.000000    2.000000  \n",
       "max      216.000000  150.000000  333.000000  \n",
       "mean      16.531128   13.979960   14.279441  \n",
       "std       27.908232   19.385841   27.324893  \n",
       "len      514.000000  499.000000  501.000000  "
      ]
     },
     "execution_count": 306,
     "metadata": {},
     "output_type": "execute_result"
    }
   ],
   "source": [
    "rain_site = rainy_weather.groupby(by = 'site_id')['precip_depth_1_hr'].agg([min, max, np.mean, np.std, len])\n",
    "rain_site.T"
   ]
  },
  {
   "cell_type": "code",
   "execution_count": 313,
   "metadata": {
    "ExecuteTime": {
     "end_time": "2020-01-20T12:20:21.898905Z",
     "start_time": "2020-01-20T12:20:21.611060Z"
    },
    "hidden": true
   },
   "outputs": [
    {
     "data": {
      "image/png": "[encoded data removed]",
      "text/plain": [
       "<Figure size 432x288 with 1 Axes>"
      ]
     },
     "metadata": {
      "needs_background": "light"
     },
     "output_type": "display_data"
    }
   ],
   "source": [
    "rain_site['mean'].plot.bar()\n",
    "plt.show()"
   ]
  },
  {
   "cell_type": "markdown",
   "metadata": {
    "heading_collapsed": true,
    "hidden": true
   },
   "source": [
    "### time examination"
   ]
  },
  {
   "cell_type": "code",
   "execution_count": 315,
   "metadata": {
    "ExecuteTime": {
     "end_time": "2020-01-20T12:22:58.992919Z",
     "start_time": "2020-01-20T12:22:58.172475Z"
    },
    "hidden": true
   },
   "outputs": [
    {
     "data": {
      "image/png": "[encoded data removed]",
      "text/plain": [
       "<Figure size 864x360 with 2 Axes>"
      ]
     },
     "metadata": {
      "needs_background": "light"
     },
     "output_type": "display_data"
    }
   ],
   "source": [
    "hour_group = rainy_weather.groupby(by=rainy_weather['timestamp'].map(lambda x : x.hour))\n",
    "month_group = rainy_weather.groupby(by=rainy_weather['timestamp'].map(lambda x : x.month))\n",
    "\n",
    "col = 'precip_depth_1_hr'\n",
    "fig, axs = plt.subplots(1, 2, figsize = (12, 5))\n",
    "air_temperature_hour = hour_group[col].agg([min, max, np.mean, np.std])\n",
    "air_temperature_hour['mean'].plot.bar(ax = axs[0])\n",
    "axs[0].set_xlabel('hour')\n",
    "axs[0].set_ylabel(col)\n",
    "air_temperature_month = month_group[col].agg([min, max, np.mean, np.std])\n",
    "air_temperature_month['mean'].plot.bar(ax = axs[1])\n",
    "axs[1].set_xlabel('month')\n",
    "axs[1].set_ylabel(col)\n",
    "fig.suptitle(f'{col} in different times')\n",
    "plt.show()"
   ]
  },
  {
   "cell_type": "markdown",
   "metadata": {
    "heading_collapsed": true,
    "hidden": true
   },
   "source": [
    "## sea level pressure"
   ]
  },
  {
   "cell_type": "markdown",
   "metadata": {
    "heading_collapsed": true,
    "hidden": true
   },
   "source": [
    "### null examination"
   ]
  },
  {
   "cell_type": "code",
   "execution_count": 200,
   "metadata": {
    "ExecuteTime": {
     "end_time": "2020-01-20T10:50:27.399387Z",
     "start_time": "2020-01-20T10:50:27.381863Z"
    },
    "hidden": true
   },
   "outputs": [
    {
     "data": {
      "text/plain": [
       "10618"
      ]
     },
     "execution_count": 200,
     "metadata": {},
     "output_type": "execute_result"
    }
   ],
   "source": [
    "np.sum(weather['sea_level_pressure'].isna())"
   ]
  },
  {
   "cell_type": "code",
   "execution_count": 479,
   "metadata": {
    "ExecuteTime": {
     "end_time": "2020-01-20T14:45:38.270326Z",
     "start_time": "2020-01-20T14:45:38.249563Z"
    },
    "hidden": true
   },
   "outputs": [
    {
     "data": {
      "text/plain": [
       "site_id\n",
       "0       85.0\n",
       "1       52.0\n",
       "2       44.0\n",
       "3      158.0\n",
       "4       73.0\n",
       "5     8755.0\n",
       "6      175.0\n",
       "7        8.0\n",
       "8       85.0\n",
       "9      239.0\n",
       "10     141.0\n",
       "11       8.0\n",
       "12      56.0\n",
       "13     120.0\n",
       "14     110.0\n",
       "15     509.0\n",
       "Name: sea_level_pressure, dtype: float64"
      ]
     },
     "execution_count": 479,
     "metadata": {},
     "output_type": "execute_result"
    }
   ],
   "source": [
    "nulls['sea_level_pressure']"
   ]
  },
  {
   "cell_type": "markdown",
   "metadata": {
    "heading_collapsed": true,
    "hidden": true
   },
   "source": [
    "### site examination"
   ]
  },
  {
   "cell_type": "code",
   "execution_count": 206,
   "metadata": {
    "ExecuteTime": {
     "end_time": "2020-01-20T10:53:05.500619Z",
     "start_time": "2020-01-20T10:53:05.122624Z"
    },
    "hidden": true
   },
   "outputs": [
    {
     "data": {
      "image/png": "[encoded data removed]",
      "text/plain": [
       "<Figure size 432x288 with 1 Axes>"
      ]
     },
     "metadata": {
      "needs_background": "light"
     },
     "output_type": "display_data"
    }
   ],
   "source": [
    "one_site['sea_level_pressure'].plot.hist(bins = 20)\n",
    "plt.xlabel('sea level pressure')\n",
    "plt.show()"
   ]
  },
  {
   "cell_type": "code",
   "execution_count": 210,
   "metadata": {
    "ExecuteTime": {
     "end_time": "2020-01-20T10:55:15.702504Z",
     "start_time": "2020-01-20T10:55:15.676554Z"
    },
    "hidden": true
   },
   "outputs": [
    {
     "data": {
      "text/html": [
       "<div>\n",
       "<style scoped>\n",
       "    .dataframe tbody tr th:only-of-type {\n",
       "        vertical-align: middle;\n",
       "    }\n",
       "\n",
       "    .dataframe tbody tr th {\n",
       "        vertical-align: top;\n",
       "    }\n",
       "\n",
       "    .dataframe thead th {\n",
       "        text-align: right;\n",
       "    }\n",
       "</style>\n",
       "<table border=\"1\" class=\"dataframe\">\n",
       "  <thead>\n",
       "    <tr style=\"text-align: right;\">\n",
       "      <th>site_id</th>\n",
       "      <th>0</th>\n",
       "      <th>1</th>\n",
       "      <th>2</th>\n",
       "      <th>3</th>\n",
       "      <th>4</th>\n",
       "      <th>5</th>\n",
       "      <th>6</th>\n",
       "      <th>7</th>\n",
       "      <th>8</th>\n",
       "      <th>9</th>\n",
       "      <th>10</th>\n",
       "      <th>11</th>\n",
       "      <th>12</th>\n",
       "      <th>13</th>\n",
       "      <th>14</th>\n",
       "      <th>15</th>\n",
       "    </tr>\n",
       "  </thead>\n",
       "  <tbody>\n",
       "    <tr>\n",
       "      <th>min</th>\n",
       "      <td>992.000000</td>\n",
       "      <td>973.300000</td>\n",
       "      <td>999.300000</td>\n",
       "      <td>991.500000</td>\n",
       "      <td>999.800000</td>\n",
       "      <td>NaN</td>\n",
       "      <td>991.300000</td>\n",
       "      <td>983.600000</td>\n",
       "      <td>992.000000</td>\n",
       "      <td>999.500000</td>\n",
       "      <td>990.500000</td>\n",
       "      <td>983.600000</td>\n",
       "      <td>968.200000</td>\n",
       "      <td>981.600000</td>\n",
       "      <td>989.600000</td>\n",
       "      <td>987.400000</td>\n",
       "    </tr>\n",
       "    <tr>\n",
       "      <th>max</th>\n",
       "      <td>1030.200000</td>\n",
       "      <td>1045.500000</td>\n",
       "      <td>1028.200000</td>\n",
       "      <td>1040.900000</td>\n",
       "      <td>1031.700000</td>\n",
       "      <td>NaN</td>\n",
       "      <td>1039.800000</td>\n",
       "      <td>1043.800000</td>\n",
       "      <td>1030.200000</td>\n",
       "      <td>1041.600000</td>\n",
       "      <td>1042.600000</td>\n",
       "      <td>1043.800000</td>\n",
       "      <td>1041.900000</td>\n",
       "      <td>1040.200000</td>\n",
       "      <td>1040.300000</td>\n",
       "      <td>1042.200000</td>\n",
       "    </tr>\n",
       "    <tr>\n",
       "      <th>mean</th>\n",
       "      <td>1017.988378</td>\n",
       "      <td>1015.989795</td>\n",
       "      <td>1011.679311</td>\n",
       "      <td>1017.938692</td>\n",
       "      <td>1016.887750</td>\n",
       "      <td>NaN</td>\n",
       "      <td>1017.527954</td>\n",
       "      <td>1015.252010</td>\n",
       "      <td>1017.988378</td>\n",
       "      <td>1016.625114</td>\n",
       "      <td>1015.668788</td>\n",
       "      <td>1015.252010</td>\n",
       "      <td>1014.425474</td>\n",
       "      <td>1015.895371</td>\n",
       "      <td>1016.377985</td>\n",
       "      <td>1016.980579</td>\n",
       "    </tr>\n",
       "    <tr>\n",
       "      <th>std</th>\n",
       "      <td>4.036187</td>\n",
       "      <td>10.746261</td>\n",
       "      <td>4.934105</td>\n",
       "      <td>6.931980</td>\n",
       "      <td>4.519844</td>\n",
       "      <td>NaN</td>\n",
       "      <td>6.646051</td>\n",
       "      <td>8.446564</td>\n",
       "      <td>4.036187</td>\n",
       "      <td>6.065054</td>\n",
       "      <td>8.363580</td>\n",
       "      <td>8.446564</td>\n",
       "      <td>11.527693</td>\n",
       "      <td>7.652373</td>\n",
       "      <td>7.251592</td>\n",
       "      <td>7.496048</td>\n",
       "    </tr>\n",
       "  </tbody>\n",
       "</table>\n",
       "</div>"
      ],
      "text/plain": [
       "site_id           0            1            2            3            4   5   \\\n",
       "min       992.000000   973.300000   999.300000   991.500000   999.800000 NaN   \n",
       "max      1030.200000  1045.500000  1028.200000  1040.900000  1031.700000 NaN   \n",
       "mean     1017.988378  1015.989795  1011.679311  1017.938692  1016.887750 NaN   \n",
       "std         4.036187    10.746261     4.934105     6.931980     4.519844 NaN   \n",
       "\n",
       "site_id           6            7            8            9            10  \\\n",
       "min       991.300000   983.600000   992.000000   999.500000   990.500000   \n",
       "max      1039.800000  1043.800000  1030.200000  1041.600000  1042.600000   \n",
       "mean     1017.527954  1015.252010  1017.988378  1016.625114  1015.668788   \n",
       "std         6.646051     8.446564     4.036187     6.065054     8.363580   \n",
       "\n",
       "site_id           11           12           13           14           15  \n",
       "min       983.600000   968.200000   981.600000   989.600000   987.400000  \n",
       "max      1043.800000  1041.900000  1040.200000  1040.300000  1042.200000  \n",
       "mean     1015.252010  1014.425474  1015.895371  1016.377985  1016.980579  \n",
       "std         8.446564    11.527693     7.652373     7.251592     7.496048  "
      ]
     },
     "execution_count": 210,
     "metadata": {},
     "output_type": "execute_result"
    }
   ],
   "source": [
    "sea_level_pressure = site_group['sea_level_pressure'].agg([min, max, np.mean, np.std])\n",
    "sea_level_pressure.T"
   ]
  },
  {
   "cell_type": "markdown",
   "metadata": {
    "heading_collapsed": true,
    "hidden": true
   },
   "source": [
    "### time examination"
   ]
  },
  {
   "cell_type": "code",
   "execution_count": 292,
   "metadata": {
    "ExecuteTime": {
     "end_time": "2020-01-20T11:54:37.103665Z",
     "start_time": "2020-01-20T11:54:36.294121Z"
    },
    "hidden": true
   },
   "outputs": [
    {
     "data": {
      "image/png": "[encoded data removed]",
      "text/plain": [
       "<Figure size 864x360 with 2 Axes>"
      ]
     },
     "metadata": {
      "needs_background": "light"
     },
     "output_type": "display_data"
    }
   ],
   "source": [
    "plot_time_cycles('sea_level_pressure')"
   ]
  },
  {
   "cell_type": "markdown",
   "metadata": {
    "heading_collapsed": true,
    "hidden": true
   },
   "source": [
    "## wind direction"
   ]
  },
  {
   "cell_type": "markdown",
   "metadata": {
    "heading_collapsed": true,
    "hidden": true
   },
   "source": [
    "### null examination"
   ]
  },
  {
   "cell_type": "code",
   "execution_count": 211,
   "metadata": {
    "ExecuteTime": {
     "end_time": "2020-01-20T10:58:17.661072Z",
     "start_time": "2020-01-20T10:58:17.642159Z"
    },
    "hidden": true
   },
   "outputs": [
    {
     "data": {
      "text/plain": [
       "6268"
      ]
     },
     "execution_count": 211,
     "metadata": {},
     "output_type": "execute_result"
    }
   ],
   "source": [
    "np.sum(weather['wind_direction'].isna())"
   ]
  },
  {
   "cell_type": "code",
   "execution_count": 212,
   "metadata": {
    "ExecuteTime": {
     "end_time": "2020-01-20T10:58:31.318762Z",
     "start_time": "2020-01-20T10:58:31.306890Z"
    },
    "hidden": true
   },
   "outputs": [
    {
     "data": {
      "text/plain": [
       "site_id\n",
       "0      250.0\n",
       "1        3.0\n",
       "2      591.0\n",
       "3      153.0\n",
       "4      105.0\n",
       "5      295.0\n",
       "6      779.0\n",
       "7        0.0\n",
       "8      250.0\n",
       "9     2558.0\n",
       "10     534.0\n",
       "11       0.0\n",
       "12       1.0\n",
       "13     217.0\n",
       "14     290.0\n",
       "15     242.0\n",
       "Name: wind_direction, dtype: float64"
      ]
     },
     "execution_count": 212,
     "metadata": {},
     "output_type": "execute_result"
    }
   ],
   "source": [
    "nulls['wind_direction']"
   ]
  },
  {
   "cell_type": "markdown",
   "metadata": {
    "heading_collapsed": true,
    "hidden": true
   },
   "source": [
    "### site examination"
   ]
  },
  {
   "cell_type": "code",
   "execution_count": 220,
   "metadata": {
    "ExecuteTime": {
     "end_time": "2020-01-20T11:01:32.095023Z",
     "start_time": "2020-01-20T11:01:31.589815Z"
    },
    "hidden": true
   },
   "outputs": [
    {
     "data": {
      "image/png": "[encoded data removed]",
      "text/plain": [
       "<Figure size 432x288 with 1 Axes>"
      ]
     },
     "metadata": {
      "needs_background": "light"
     },
     "output_type": "display_data"
    }
   ],
   "source": [
    "one_site['wind_direction'].plot.hist(bins = 35)\n",
    "plt.xlabel('wind direction')\n",
    "plt.title('wind direction in site #0')\n",
    "plt.show()"
   ]
  },
  {
   "cell_type": "code",
   "execution_count": 221,
   "metadata": {
    "ExecuteTime": {
     "end_time": "2020-01-20T11:01:46.536178Z",
     "start_time": "2020-01-20T11:01:46.157437Z"
    },
    "hidden": true
   },
   "outputs": [
    {
     "data": {
      "image/png": "[encoded data removed]",
      "text/plain": [
       "<Figure size 432x288 with 1 Axes>"
      ]
     },
     "metadata": {
      "needs_background": "light"
     },
     "output_type": "display_data"
    }
   ],
   "source": [
    "one_site['wind_direction'].plot.hist(bins = 35)\n",
    "plt.xlabel('wind direction')\n",
    "plt.title('wind direction in all sites')\n",
    "plt.show()"
   ]
  },
  {
   "cell_type": "markdown",
   "metadata": {
    "heading_collapsed": true,
    "hidden": true
   },
   "source": [
    "### time examination"
   ]
  },
  {
   "cell_type": "code",
   "execution_count": 293,
   "metadata": {
    "ExecuteTime": {
     "end_time": "2020-01-20T11:56:49.737286Z",
     "start_time": "2020-01-20T11:56:48.962368Z"
    },
    "hidden": true
   },
   "outputs": [
    {
     "data": {
      "image/png": "[encoded data removed]",
      "text/plain": [
       "<Figure size 864x360 with 2 Axes>"
      ]
     },
     "metadata": {
      "needs_background": "light"
     },
     "output_type": "display_data"
    }
   ],
   "source": [
    "plot_time_cycles('wind_direction')"
   ]
  },
  {
   "cell_type": "markdown",
   "metadata": {
    "heading_collapsed": true,
    "hidden": true
   },
   "source": [
    "## wind_speed"
   ]
  },
  {
   "cell_type": "markdown",
   "metadata": {
    "heading_collapsed": true,
    "hidden": true
   },
   "source": [
    "### null examination"
   ]
  },
  {
   "cell_type": "code",
   "execution_count": 222,
   "metadata": {
    "ExecuteTime": {
     "end_time": "2020-01-20T11:02:09.492774Z",
     "start_time": "2020-01-20T11:02:09.472688Z"
    },
    "hidden": true
   },
   "outputs": [
    {
     "data": {
      "text/plain": [
       "304"
      ]
     },
     "execution_count": 222,
     "metadata": {},
     "output_type": "execute_result"
    }
   ],
   "source": [
    "np.sum(weather['wind_speed'].isna())"
   ]
  },
  {
   "cell_type": "code",
   "execution_count": 223,
   "metadata": {
    "ExecuteTime": {
     "end_time": "2020-01-20T11:02:26.874258Z",
     "start_time": "2020-01-20T11:02:26.854675Z"
    },
    "hidden": true
   },
   "outputs": [
    {
     "data": {
      "text/plain": [
       "site_id\n",
       "0       0.0\n",
       "1       0.0\n",
       "2       5.0\n",
       "3       4.0\n",
       "4       0.0\n",
       "5       3.0\n",
       "6      39.0\n",
       "7       0.0\n",
       "8       0.0\n",
       "9      97.0\n",
       "10    104.0\n",
       "11      0.0\n",
       "12      0.0\n",
       "13      1.0\n",
       "14     23.0\n",
       "15     28.0\n",
       "Name: wind_speed, dtype: float64"
      ]
     },
     "execution_count": 223,
     "metadata": {},
     "output_type": "execute_result"
    }
   ],
   "source": [
    "nulls['wind_speed']"
   ]
  },
  {
   "cell_type": "markdown",
   "metadata": {
    "heading_collapsed": true,
    "hidden": true
   },
   "source": [
    "### value examination"
   ]
  },
  {
   "cell_type": "code",
   "execution_count": 225,
   "metadata": {
    "ExecuteTime": {
     "end_time": "2020-01-20T11:03:35.280667Z",
     "start_time": "2020-01-20T11:03:35.258530Z"
    },
    "hidden": true
   },
   "outputs": [
    {
     "data": {
      "text/plain": [
       "13542"
      ]
     },
     "execution_count": 225,
     "metadata": {},
     "output_type": "execute_result"
    }
   ],
   "source": [
    "weather['wind_speed'].value_counts()[0]"
   ]
  },
  {
   "cell_type": "code",
   "execution_count": 227,
   "metadata": {
    "ExecuteTime": {
     "end_time": "2020-01-20T11:04:16.498181Z",
     "start_time": "2020-01-20T11:04:16.482646Z"
    },
    "hidden": true
   },
   "outputs": [
    {
     "data": {
      "text/plain": [
       "array([  0., 360.,  nan])"
      ]
     },
     "execution_count": 227,
     "metadata": {},
     "output_type": "execute_result"
    }
   ],
   "source": [
    "weather[weather['wind_speed'] == 0]['wind_direction'].unique()"
   ]
  },
  {
   "cell_type": "markdown",
   "metadata": {
    "heading_collapsed": true,
    "hidden": true
   },
   "source": [
    "### site examination"
   ]
  },
  {
   "cell_type": "code",
   "execution_count": 231,
   "metadata": {
    "ExecuteTime": {
     "end_time": "2020-01-20T11:05:45.199093Z",
     "start_time": "2020-01-20T11:05:44.796223Z"
    },
    "hidden": true
   },
   "outputs": [
    {
     "data": {
      "image/png": "[encoded data removed]",
      "text/plain": [
       "<Figure size 432x288 with 1 Axes>"
      ]
     },
     "metadata": {
      "needs_background": "light"
     },
     "output_type": "display_data"
    }
   ],
   "source": [
    "one_site['wind_speed'].plot.hist(bins = 20)\n",
    "plt.xlabel('wind_speed')\n",
    "plt.show()"
   ]
  },
  {
   "cell_type": "code",
   "execution_count": 232,
   "metadata": {
    "ExecuteTime": {
     "end_time": "2020-01-20T11:07:58.606152Z",
     "start_time": "2020-01-20T11:07:58.566164Z"
    },
    "hidden": true
   },
   "outputs": [
    {
     "data": {
      "text/html": [
       "<div>\n",
       "<style scoped>\n",
       "    .dataframe tbody tr th:only-of-type {\n",
       "        vertical-align: middle;\n",
       "    }\n",
       "\n",
       "    .dataframe tbody tr th {\n",
       "        vertical-align: top;\n",
       "    }\n",
       "\n",
       "    .dataframe thead th {\n",
       "        text-align: right;\n",
       "    }\n",
       "</style>\n",
       "<table border=\"1\" class=\"dataframe\">\n",
       "  <thead>\n",
       "    <tr style=\"text-align: right;\">\n",
       "      <th>site_id</th>\n",
       "      <th>0</th>\n",
       "      <th>1</th>\n",
       "      <th>2</th>\n",
       "      <th>3</th>\n",
       "      <th>4</th>\n",
       "      <th>5</th>\n",
       "      <th>6</th>\n",
       "      <th>7</th>\n",
       "      <th>8</th>\n",
       "      <th>9</th>\n",
       "      <th>10</th>\n",
       "      <th>11</th>\n",
       "      <th>12</th>\n",
       "      <th>13</th>\n",
       "      <th>14</th>\n",
       "      <th>15</th>\n",
       "    </tr>\n",
       "  </thead>\n",
       "  <tbody>\n",
       "    <tr>\n",
       "      <th>min</th>\n",
       "      <td>0.000000</td>\n",
       "      <td>0.000000</td>\n",
       "      <td>0.000000</td>\n",
       "      <td>0.000000</td>\n",
       "      <td>0.000000</td>\n",
       "      <td>0.000000</td>\n",
       "      <td>0.000000</td>\n",
       "      <td>0.000000</td>\n",
       "      <td>0.000000</td>\n",
       "      <td>0.000000</td>\n",
       "      <td>0.000000</td>\n",
       "      <td>0.000000</td>\n",
       "      <td>0.000000</td>\n",
       "      <td>0.000000</td>\n",
       "      <td>0.000000</td>\n",
       "      <td>0.000000</td>\n",
       "    </tr>\n",
       "    <tr>\n",
       "      <th>max</th>\n",
       "      <td>15.400000</td>\n",
       "      <td>18.500000</td>\n",
       "      <td>15.400000</td>\n",
       "      <td>17.000000</td>\n",
       "      <td>16.500000</td>\n",
       "      <td>18.500000</td>\n",
       "      <td>11.300000</td>\n",
       "      <td>12.800000</td>\n",
       "      <td>15.400000</td>\n",
       "      <td>9.300000</td>\n",
       "      <td>16.500000</td>\n",
       "      <td>12.800000</td>\n",
       "      <td>19.000000</td>\n",
       "      <td>16.000000</td>\n",
       "      <td>13.400000</td>\n",
       "      <td>15.400000</td>\n",
       "    </tr>\n",
       "    <tr>\n",
       "      <th>mean</th>\n",
       "      <td>3.375114</td>\n",
       "      <td>3.967043</td>\n",
       "      <td>2.932764</td>\n",
       "      <td>3.910893</td>\n",
       "      <td>3.858226</td>\n",
       "      <td>4.768087</td>\n",
       "      <td>2.197758</td>\n",
       "      <td>3.445565</td>\n",
       "      <td>3.375114</td>\n",
       "      <td>2.083658</td>\n",
       "      <td>3.158677</td>\n",
       "      <td>3.445565</td>\n",
       "      <td>5.511399</td>\n",
       "      <td>4.197358</td>\n",
       "      <td>3.076776</td>\n",
       "      <td>3.645490</td>\n",
       "    </tr>\n",
       "    <tr>\n",
       "      <th>std</th>\n",
       "      <td>2.154266</td>\n",
       "      <td>2.211536</td>\n",
       "      <td>1.963932</td>\n",
       "      <td>2.282695</td>\n",
       "      <td>2.536447</td>\n",
       "      <td>2.340060</td>\n",
       "      <td>1.875501</td>\n",
       "      <td>1.995291</td>\n",
       "      <td>2.154266</td>\n",
       "      <td>1.519628</td>\n",
       "      <td>2.035429</td>\n",
       "      <td>1.995291</td>\n",
       "      <td>2.733220</td>\n",
       "      <td>2.324516</td>\n",
       "      <td>2.073463</td>\n",
       "      <td>2.457482</td>\n",
       "    </tr>\n",
       "  </tbody>\n",
       "</table>\n",
       "</div>"
      ],
      "text/plain": [
       "site_id         0          1          2          3          4          5   \\\n",
       "min       0.000000   0.000000   0.000000   0.000000   0.000000   0.000000   \n",
       "max      15.400000  18.500000  15.400000  17.000000  16.500000  18.500000   \n",
       "mean      3.375114   3.967043   2.932764   3.910893   3.858226   4.768087   \n",
       "std       2.154266   2.211536   1.963932   2.282695   2.536447   2.340060   \n",
       "\n",
       "site_id         6          7          8         9          10         11  \\\n",
       "min       0.000000   0.000000   0.000000  0.000000   0.000000   0.000000   \n",
       "max      11.300000  12.800000  15.400000  9.300000  16.500000  12.800000   \n",
       "mean      2.197758   3.445565   3.375114  2.083658   3.158677   3.445565   \n",
       "std       1.875501   1.995291   2.154266  1.519628   2.035429   1.995291   \n",
       "\n",
       "site_id         12         13         14         15  \n",
       "min       0.000000   0.000000   0.000000   0.000000  \n",
       "max      19.000000  16.000000  13.400000  15.400000  \n",
       "mean      5.511399   4.197358   3.076776   3.645490  \n",
       "std       2.733220   2.324516   2.073463   2.457482  "
      ]
     },
     "execution_count": 232,
     "metadata": {},
     "output_type": "execute_result"
    }
   ],
   "source": [
    "wind_speed = site_group['wind_speed'].agg([min, max, np.mean, np.std])\n",
    "wind_speed.T"
   ]
  },
  {
   "cell_type": "markdown",
   "metadata": {
    "heading_collapsed": true,
    "hidden": true
   },
   "source": [
    "### time examination"
   ]
  },
  {
   "cell_type": "code",
   "execution_count": 294,
   "metadata": {
    "ExecuteTime": {
     "end_time": "2020-01-20T11:59:18.273355Z",
     "start_time": "2020-01-20T11:59:17.507285Z"
    },
    "hidden": true
   },
   "outputs": [
    {
     "data": {
      "image/png": "[encoded data removed]",
      "text/plain": [
       "<Figure size 864x360 with 2 Axes>"
      ]
     },
     "metadata": {
      "needs_background": "light"
     },
     "output_type": "display_data"
    }
   ],
   "source": [
    "plot_time_cycles('wind_speed')"
   ]
  },
  {
   "cell_type": "markdown",
   "metadata": {
    "heading_collapsed": true
   },
   "source": [
    "# data cleaning"
   ]
  },
  {
   "cell_type": "markdown",
   "metadata": {
    "heading_collapsed": true,
    "hidden": true
   },
   "source": [
    "## delete repeting site"
   ]
  },
  {
   "cell_type": "code",
   "execution_count": 397,
   "metadata": {
    "ExecuteTime": {
     "end_time": "2020-01-20T13:44:45.368787Z",
     "start_time": "2020-01-20T13:44:45.120779Z"
    },
    "hidden": true
   },
   "outputs": [
    {
     "name": "stdout",
     "output_type": "stream",
     "text": [
      "{'site_id': False, 'timestamp': True, 'air_temperature': True, 'cloud_coverage': True, 'dew_temperature': True, 'precip_depth_1_hr': True, 'sea_level_pressure': True, 'wind_direction': True, 'wind_speed': True}\n",
      "{'site_id': False, 'timestamp': True, 'air_temperature': True, 'cloud_coverage': True, 'dew_temperature': True, 'precip_depth_1_hr': True, 'sea_level_pressure': True, 'wind_direction': True, 'wind_speed': True}\n"
     ]
    }
   ],
   "source": [
    "d = {}\n",
    "for col in weather.columns:\n",
    "    diff_places = weather[weather.site_id == 7][col].values != weather[weather.site_id == 11][col].values\n",
    "    not_null = ~np.logical_or(weather[weather.site_id == 7][col].isna(), weather[weather.site_id == 11][col].isna())\n",
    "    places = np.logical_and(diff_places, not_null)\n",
    "    indices = np.arange(8614)\n",
    "    d[col] = np.all(~places)\n",
    "print(d)\n",
    "\n",
    "d = {}\n",
    "for col in weather_test.columns:\n",
    "    diff_places = weather_test[weather_test.site_id == 7][col].values != weather_test[weather_test.site_id == 11][col].values\n",
    "    not_null = ~np.logical_or(weather_test[weather_test.site_id == 7][col].isna(), weather_test[weather_test.site_id == 11][col].isna())\n",
    "    places = np.logical_and(diff_places, not_null)\n",
    "    indices = np.arange(8614)\n",
    "    d[col] = np.all(~places)\n",
    "print(d)"
   ]
  },
  {
   "cell_type": "code",
   "execution_count": 499,
   "metadata": {
    "ExecuteTime": {
     "end_time": "2020-01-20T14:58:10.690449Z",
     "start_time": "2020-01-20T14:58:10.648933Z"
    },
    "hidden": true
   },
   "outputs": [],
   "source": [
    "#above test means sites 7, 11 are identical in data (train and test), so had to be united:\n",
    "\n",
    "weather = weather.drop(weather.index[weather.site_id == 11])\n",
    "weather_test = weather_test.drop(weather_test.index[weather_test.site_id == 11])"
   ]
  },
  {
   "cell_type": "markdown",
   "metadata": {
    "heading_collapsed": true,
    "hidden": true
   },
   "source": [
    "## filling nulls"
   ]
  },
  {
   "cell_type": "code",
   "execution_count": 512,
   "metadata": {
    "ExecuteTime": {
     "end_time": "2020-01-20T15:04:31.289067Z",
     "start_time": "2020-01-20T15:04:18.297810Z"
    },
    "hidden": true
   },
   "outputs": [],
   "source": [
    "hour_means = {i: weather[weather.site_id == i].groupby(by=weather['timestamp'].map(lambda x : x.hour)).mean()\n",
    "              for i in weather.site_id.unique()}\n",
    "month_means = {i: weather[weather.site_id == i].groupby(by=weather['timestamp'].map(lambda x : x.month)).mean() \n",
    "               for i in weather.site_id.unique()}\n",
    "time_means = {i: weather[weather.site_id == i].groupby(by=weather['timestamp'].map(lambda x : (x.month, x.hour))).mean() \n",
    "              for i in weather.site_id.unique()}"
   ]
  },
  {
   "cell_type": "code",
   "execution_count": 515,
   "metadata": {
    "ExecuteTime": {
     "end_time": "2020-01-20T15:05:00.775060Z",
     "start_time": "2020-01-20T15:05:00.762096Z"
    },
    "hidden": true
   },
   "outputs": [],
   "source": [
    "def fill_missing_by_time(row, w, col, criteria):\n",
    "    if criteria not in ['h', 'm', 't']:\n",
    "        return row[col]\n",
    "    site = row['site_id']\n",
    "    if criteria == 'h':\n",
    "        return hour_means[site][col][row['timestamp'].hour] if pd.isnull(row[col]) else row[col]\n",
    "    elif criteria == 'm':\n",
    "        return month_means[site][col][row['timestamp'].month] if pd.isnull(row[col]) else row[col]\n",
    "    return time_means[site][col][(row['timestamp'].month, row['timestamp'].hour)] if pd.isnull(row[col]) else row[col]"
   ]
  },
  {
   "cell_type": "code",
   "execution_count": 519,
   "metadata": {
    "ExecuteTime": {
     "end_time": "2020-01-20T15:07:16.146382Z",
     "start_time": "2020-01-20T15:06:48.563906Z"
    },
    "hidden": true
   },
   "outputs": [],
   "source": [
    "weather['air_temperature'] = weather.apply(lambda row: fill_missing_by_time(row, weather, 'air_temperature', 't'), axis = 1)\n",
    "weather_test['air_temperature'] = weather_test.apply(lambda row: fill_missing_by_time(row, weather_test, 'air_temperature', 't'), axis = 1)\n",
    "\n",
    "weather['dew_temperature'] = weather.apply(lambda row: fill_missing_by_time(row, weather, 'dew_temperature', 'm'), axis = 1)\n",
    "weather_test['dew_temperature'] = weather_test.apply(lambda row: fill_missing_by_time(row, weather_test, 'dew_temperature', 'm'), axis = 1)\n",
    "\n",
    "weather['sea_level_pressure'] = weather.apply(lambda row: fill_missing_by_time(row, weather, 'sea_level_pressure', 't'), axis = 1)\n",
    "weather_test['sea_level_pressure'] = weather_test.apply(lambda row: fill_missing_by_time(row, weather_test, 'sea_level_pressure', 't'), axis = 1)\n",
    "weather['sea_level_pressure'] = weather.apply(lambda row: np.nan if row['site_id'] == 5 else row['sea_level_pressure'], axis = 1)\n",
    "weather_test['sea_level_pressure'] = weather_test.apply(lambda row: np.nan if row['site_id'] == 5 else row['sea_level_pressure'], axis = 1)\n",
    "\n",
    "weather['wind_direction'] = weather.apply(lambda row: fill_missing_by_time(row, weather, 'wind_direction', 'h'), axis = 1)\n",
    "weather_test['wind_direction'] = weather_test.apply(lambda row: fill_missing_by_time(row, weather_test, 'wind_direction', 'h'), axis = 1)\n",
    "\n",
    "weather['wind_speed'] = weather.apply(lambda row: fill_missing_by_time(row, weather, 'wind_speed', 'h'), axis = 1)\n",
    "weather_test['wind_speed'] = weather_test.apply(lambda row: fill_missing_by_time(row, weather_test, 'wind_speed', 'h'), axis = 1)"
   ]
  },
  {
   "cell_type": "markdown",
   "metadata": {
    "heading_collapsed": true,
    "hidden": true
   },
   "source": [
    "## indicative features"
   ]
  },
  {
   "cell_type": "code",
   "execution_count": 529,
   "metadata": {
    "ExecuteTime": {
     "end_time": "2020-01-20T15:09:44.562417Z",
     "start_time": "2020-01-20T15:09:44.518883Z"
    },
    "hidden": true
   },
   "outputs": [
    {
     "data": {
      "text/plain": [
       "site_id                   0\n",
       "timestamp                 0\n",
       "air_temperature           0\n",
       "cloud_coverage        60559\n",
       "dew_temperature           0\n",
       "precip_depth_1_hr     42406\n",
       "sea_level_pressure     8755\n",
       "wind_direction            0\n",
       "wind_speed                0\n",
       "dtype: int64"
      ]
     },
     "execution_count": 529,
     "metadata": {},
     "output_type": "execute_result"
    }
   ],
   "source": [
    "np.sum(weather.isna())"
   ]
  },
  {
   "cell_type": "code",
   "execution_count": 530,
   "metadata": {
    "ExecuteTime": {
     "end_time": "2020-01-20T15:11:20.124722Z",
     "start_time": "2020-01-20T15:11:20.105979Z"
    },
    "hidden": true
   },
   "outputs": [],
   "source": [
    "weather = weather.fillna(-1)\n",
    "\n",
    "weather['has_cloud_coverage'] = weather['cloud_coverage'] != -1\n",
    "weather['has_precip_depth_1_hr'] = weather['precip_depth_1_hr'] != -1\n",
    "weather['has_sea_level_pressure'] = weather['sea_level_pressure'] != -1"
   ]
  },
  {
   "cell_type": "code",
   "execution_count": 531,
   "metadata": {
    "ExecuteTime": {
     "end_time": "2020-01-20T15:11:36.250097Z",
     "start_time": "2020-01-20T15:11:36.206593Z"
    },
    "hidden": true
   },
   "outputs": [
    {
     "data": {
      "text/plain": [
       "site_id                    0\n",
       "timestamp                  0\n",
       "air_temperature            0\n",
       "cloud_coverage        123875\n",
       "dew_temperature            0\n",
       "precip_depth_1_hr      80812\n",
       "sea_level_pressure     17241\n",
       "wind_direction             0\n",
       "wind_speed                 0\n",
       "dtype: int64"
      ]
     },
     "execution_count": 531,
     "metadata": {},
     "output_type": "execute_result"
    }
   ],
   "source": [
    "np.sum(weather_test.isna())"
   ]
  },
  {
   "cell_type": "code",
   "execution_count": 532,
   "metadata": {
    "ExecuteTime": {
     "end_time": "2020-01-20T15:11:47.813201Z",
     "start_time": "2020-01-20T15:11:47.774186Z"
    },
    "hidden": true
   },
   "outputs": [],
   "source": [
    "weather_test = weather_test.fillna(-1)\n",
    "\n",
    "weather_test['has_cloud_coverage'] = weather_test['cloud_coverage'] != -1\n",
    "weather_test['has_precip_depth_1_hr'] = weather_test['precip_depth_1_hr'] != -1\n",
    "weather_test['has_sea_level_pressure'] = weather_test['sea_level_pressure'] != -1"
   ]
  },
  {
   "cell_type": "markdown",
   "metadata": {
    "hidden": true
   },
   "source": [
    "## save files"
   ]
  },
  {
   "cell_type": "code",
   "execution_count": 534,
   "metadata": {
    "ExecuteTime": {
     "end_time": "2020-01-20T15:14:44.729084Z",
     "start_time": "2020-01-20T15:14:40.088829Z"
    },
    "hidden": true
   },
   "outputs": [],
   "source": [
    "weather.to_csv('data/clean_weather_train.csv')\n",
    "weather_test.to_csv('data/clean_weather_test.csv')"
   ]
  }
 ],
 "metadata": {
  "kernelspec": {
   "display_name": "Python 3",
   "language": "python",
   "name": "python3"
  },
  "language_info": {
   "codemirror_mode": {
    "name": "ipython",
    "version": 3
   },
   "file_extension": ".py",
   "mimetype": "text/x-python",
   "name": "python",
   "nbconvert_exporter": "python",
   "pygments_lexer": "ipython3",
   "version": "3.7.3"
  },
  "varInspector": {
   "cols": {
    "lenName": 16,
    "lenType": 16,
    "lenVar": 40
   },
   "kernels_config": {
    "python": {
     "delete_cmd_postfix": "",
     "delete_cmd_prefix": "del ",
     "library": "var_list.py",
     "varRefreshCmd": "print(var_dic_list())"
    },
    "r": {
     "delete_cmd_postfix": ") ",
     "delete_cmd_prefix": "rm(",
     "library": "var_list.r",
     "varRefreshCmd": "cat(var_dic_list()) "
    }
   },
   "types_to_exclude": [
    "module",
    "function",
    "builtin_function_or_method",
    "instance",
    "_Feature"
   ],
   "window_display": false
  }
 },
 "nbformat": 4,
 "nbformat_minor": 2
}
