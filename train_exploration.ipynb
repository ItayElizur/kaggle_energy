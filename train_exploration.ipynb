{
 "cells": [
  {
   "cell_type": "markdown",
   "metadata": {},
   "source": [
    "## imports and data loading"
   ]
  },
  {
   "cell_type": "code",
   "execution_count": 26,
   "metadata": {},
   "outputs": [],
   "source": [
    "import pandas as pd\n",
    "import matplotlib.pyplot as plt\n",
    "import numpy as np\n",
    "import collections"
   ]
  },
  {
   "cell_type": "code",
   "execution_count": 2,
   "metadata": {},
   "outputs": [],
   "source": [
    "train_df = pd.read_csv(\"train.csv\",engine='python')"
   ]
  },
  {
   "cell_type": "code",
   "execution_count": 35,
   "metadata": {},
   "outputs": [],
   "source": [
    "train_df.timestamp = pd.to_datetime(train_df.timestamp)"
   ]
  },
  {
   "cell_type": "code",
   "execution_count": 4,
   "metadata": {
    "scrolled": true
   },
   "outputs": [
    {
     "data": {
      "text/html": [
       "<div>\n",
       "<style scoped>\n",
       "    .dataframe tbody tr th:only-of-type {\n",
       "        vertical-align: middle;\n",
       "    }\n",
       "\n",
       "    .dataframe tbody tr th {\n",
       "        vertical-align: top;\n",
       "    }\n",
       "\n",
       "    .dataframe thead th {\n",
       "        text-align: right;\n",
       "    }\n",
       "</style>\n",
       "<table border=\"1\" class=\"dataframe\">\n",
       "  <thead>\n",
       "    <tr style=\"text-align: right;\">\n",
       "      <th></th>\n",
       "      <th>building_id</th>\n",
       "      <th>meter</th>\n",
       "      <th>timestamp</th>\n",
       "      <th>meter_reading</th>\n",
       "    </tr>\n",
       "  </thead>\n",
       "  <tbody>\n",
       "    <tr>\n",
       "      <th>0</th>\n",
       "      <td>0</td>\n",
       "      <td>0</td>\n",
       "      <td>2016-01-01 00:00:00</td>\n",
       "      <td>0.0</td>\n",
       "    </tr>\n",
       "    <tr>\n",
       "      <th>1</th>\n",
       "      <td>1</td>\n",
       "      <td>0</td>\n",
       "      <td>2016-01-01 00:00:00</td>\n",
       "      <td>0.0</td>\n",
       "    </tr>\n",
       "    <tr>\n",
       "      <th>2</th>\n",
       "      <td>2</td>\n",
       "      <td>0</td>\n",
       "      <td>2016-01-01 00:00:00</td>\n",
       "      <td>0.0</td>\n",
       "    </tr>\n",
       "    <tr>\n",
       "      <th>3</th>\n",
       "      <td>3</td>\n",
       "      <td>0</td>\n",
       "      <td>2016-01-01 00:00:00</td>\n",
       "      <td>0.0</td>\n",
       "    </tr>\n",
       "    <tr>\n",
       "      <th>4</th>\n",
       "      <td>4</td>\n",
       "      <td>0</td>\n",
       "      <td>2016-01-01 00:00:00</td>\n",
       "      <td>0.0</td>\n",
       "    </tr>\n",
       "    <tr>\n",
       "      <th>5</th>\n",
       "      <td>5</td>\n",
       "      <td>0</td>\n",
       "      <td>2016-01-01 00:00:00</td>\n",
       "      <td>0.0</td>\n",
       "    </tr>\n",
       "    <tr>\n",
       "      <th>6</th>\n",
       "      <td>6</td>\n",
       "      <td>0</td>\n",
       "      <td>2016-01-01 00:00:00</td>\n",
       "      <td>0.0</td>\n",
       "    </tr>\n",
       "    <tr>\n",
       "      <th>7</th>\n",
       "      <td>7</td>\n",
       "      <td>0</td>\n",
       "      <td>2016-01-01 00:00:00</td>\n",
       "      <td>0.0</td>\n",
       "    </tr>\n",
       "    <tr>\n",
       "      <th>8</th>\n",
       "      <td>8</td>\n",
       "      <td>0</td>\n",
       "      <td>2016-01-01 00:00:00</td>\n",
       "      <td>0.0</td>\n",
       "    </tr>\n",
       "    <tr>\n",
       "      <th>9</th>\n",
       "      <td>9</td>\n",
       "      <td>0</td>\n",
       "      <td>2016-01-01 00:00:00</td>\n",
       "      <td>0.0</td>\n",
       "    </tr>\n",
       "    <tr>\n",
       "      <th>10</th>\n",
       "      <td>10</td>\n",
       "      <td>0</td>\n",
       "      <td>2016-01-01 00:00:00</td>\n",
       "      <td>0.0</td>\n",
       "    </tr>\n",
       "    <tr>\n",
       "      <th>11</th>\n",
       "      <td>11</td>\n",
       "      <td>0</td>\n",
       "      <td>2016-01-01 00:00:00</td>\n",
       "      <td>0.0</td>\n",
       "    </tr>\n",
       "    <tr>\n",
       "      <th>12</th>\n",
       "      <td>12</td>\n",
       "      <td>0</td>\n",
       "      <td>2016-01-01 00:00:00</td>\n",
       "      <td>0.0</td>\n",
       "    </tr>\n",
       "    <tr>\n",
       "      <th>13</th>\n",
       "      <td>13</td>\n",
       "      <td>0</td>\n",
       "      <td>2016-01-01 00:00:00</td>\n",
       "      <td>0.0</td>\n",
       "    </tr>\n",
       "    <tr>\n",
       "      <th>14</th>\n",
       "      <td>14</td>\n",
       "      <td>0</td>\n",
       "      <td>2016-01-01 00:00:00</td>\n",
       "      <td>0.0</td>\n",
       "    </tr>\n",
       "    <tr>\n",
       "      <th>15</th>\n",
       "      <td>15</td>\n",
       "      <td>0</td>\n",
       "      <td>2016-01-01 00:00:00</td>\n",
       "      <td>0.0</td>\n",
       "    </tr>\n",
       "    <tr>\n",
       "      <th>16</th>\n",
       "      <td>16</td>\n",
       "      <td>0</td>\n",
       "      <td>2016-01-01 00:00:00</td>\n",
       "      <td>0.0</td>\n",
       "    </tr>\n",
       "    <tr>\n",
       "      <th>17</th>\n",
       "      <td>17</td>\n",
       "      <td>0</td>\n",
       "      <td>2016-01-01 00:00:00</td>\n",
       "      <td>0.0</td>\n",
       "    </tr>\n",
       "    <tr>\n",
       "      <th>18</th>\n",
       "      <td>18</td>\n",
       "      <td>0</td>\n",
       "      <td>2016-01-01 00:00:00</td>\n",
       "      <td>0.0</td>\n",
       "    </tr>\n",
       "    <tr>\n",
       "      <th>19</th>\n",
       "      <td>19</td>\n",
       "      <td>0</td>\n",
       "      <td>2016-01-01 00:00:00</td>\n",
       "      <td>0.0</td>\n",
       "    </tr>\n",
       "    <tr>\n",
       "      <th>20</th>\n",
       "      <td>20</td>\n",
       "      <td>0</td>\n",
       "      <td>2016-01-01 00:00:00</td>\n",
       "      <td>0.0</td>\n",
       "    </tr>\n",
       "    <tr>\n",
       "      <th>21</th>\n",
       "      <td>21</td>\n",
       "      <td>0</td>\n",
       "      <td>2016-01-01 00:00:00</td>\n",
       "      <td>0.0</td>\n",
       "    </tr>\n",
       "    <tr>\n",
       "      <th>22</th>\n",
       "      <td>22</td>\n",
       "      <td>0</td>\n",
       "      <td>2016-01-01 00:00:00</td>\n",
       "      <td>0.0</td>\n",
       "    </tr>\n",
       "    <tr>\n",
       "      <th>23</th>\n",
       "      <td>23</td>\n",
       "      <td>0</td>\n",
       "      <td>2016-01-01 00:00:00</td>\n",
       "      <td>0.0</td>\n",
       "    </tr>\n",
       "    <tr>\n",
       "      <th>24</th>\n",
       "      <td>24</td>\n",
       "      <td>0</td>\n",
       "      <td>2016-01-01 00:00:00</td>\n",
       "      <td>0.0</td>\n",
       "    </tr>\n",
       "    <tr>\n",
       "      <th>25</th>\n",
       "      <td>25</td>\n",
       "      <td>0</td>\n",
       "      <td>2016-01-01 00:00:00</td>\n",
       "      <td>0.0</td>\n",
       "    </tr>\n",
       "    <tr>\n",
       "      <th>26</th>\n",
       "      <td>26</td>\n",
       "      <td>0</td>\n",
       "      <td>2016-01-01 00:00:00</td>\n",
       "      <td>0.0</td>\n",
       "    </tr>\n",
       "    <tr>\n",
       "      <th>27</th>\n",
       "      <td>27</td>\n",
       "      <td>0</td>\n",
       "      <td>2016-01-01 00:00:00</td>\n",
       "      <td>0.0</td>\n",
       "    </tr>\n",
       "    <tr>\n",
       "      <th>28</th>\n",
       "      <td>28</td>\n",
       "      <td>0</td>\n",
       "      <td>2016-01-01 00:00:00</td>\n",
       "      <td>0.0</td>\n",
       "    </tr>\n",
       "    <tr>\n",
       "      <th>29</th>\n",
       "      <td>30</td>\n",
       "      <td>0</td>\n",
       "      <td>2016-01-01 00:00:00</td>\n",
       "      <td>0.0</td>\n",
       "    </tr>\n",
       "  </tbody>\n",
       "</table>\n",
       "</div>"
      ],
      "text/plain": [
       "    building_id  meter            timestamp  meter_reading\n",
       "0             0      0  2016-01-01 00:00:00            0.0\n",
       "1             1      0  2016-01-01 00:00:00            0.0\n",
       "2             2      0  2016-01-01 00:00:00            0.0\n",
       "3             3      0  2016-01-01 00:00:00            0.0\n",
       "4             4      0  2016-01-01 00:00:00            0.0\n",
       "5             5      0  2016-01-01 00:00:00            0.0\n",
       "6             6      0  2016-01-01 00:00:00            0.0\n",
       "7             7      0  2016-01-01 00:00:00            0.0\n",
       "8             8      0  2016-01-01 00:00:00            0.0\n",
       "9             9      0  2016-01-01 00:00:00            0.0\n",
       "10           10      0  2016-01-01 00:00:00            0.0\n",
       "11           11      0  2016-01-01 00:00:00            0.0\n",
       "12           12      0  2016-01-01 00:00:00            0.0\n",
       "13           13      0  2016-01-01 00:00:00            0.0\n",
       "14           14      0  2016-01-01 00:00:00            0.0\n",
       "15           15      0  2016-01-01 00:00:00            0.0\n",
       "16           16      0  2016-01-01 00:00:00            0.0\n",
       "17           17      0  2016-01-01 00:00:00            0.0\n",
       "18           18      0  2016-01-01 00:00:00            0.0\n",
       "19           19      0  2016-01-01 00:00:00            0.0\n",
       "20           20      0  2016-01-01 00:00:00            0.0\n",
       "21           21      0  2016-01-01 00:00:00            0.0\n",
       "22           22      0  2016-01-01 00:00:00            0.0\n",
       "23           23      0  2016-01-01 00:00:00            0.0\n",
       "24           24      0  2016-01-01 00:00:00            0.0\n",
       "25           25      0  2016-01-01 00:00:00            0.0\n",
       "26           26      0  2016-01-01 00:00:00            0.0\n",
       "27           27      0  2016-01-01 00:00:00            0.0\n",
       "28           28      0  2016-01-01 00:00:00            0.0\n",
       "29           30      0  2016-01-01 00:00:00            0.0"
      ]
     },
     "execution_count": 4,
     "metadata": {},
     "output_type": "execute_result"
    }
   ],
   "source": [
    "train_df.head(30)"
   ]
  },
  {
   "cell_type": "code",
   "execution_count": 105,
   "metadata": {},
   "outputs": [
    {
     "data": {
      "text/plain": [
       "20216100"
      ]
     },
     "execution_count": 105,
     "metadata": {},
     "output_type": "execute_result"
    }
   ],
   "source": [
    "train_df.shape[0]"
   ]
  },
  {
   "cell_type": "markdown",
   "metadata": {},
   "source": [
    "## Building id"
   ]
  },
  {
   "cell_type": "code",
   "execution_count": 192,
   "metadata": {},
   "outputs": [
    {
     "data": {
      "text/plain": [
       "1449"
      ]
     },
     "execution_count": 192,
     "metadata": {},
     "output_type": "execute_result"
    }
   ],
   "source": [
    "len(np.unique(train_df.building_id))"
   ]
  },
  {
   "cell_type": "code",
   "execution_count": 101,
   "metadata": {},
   "outputs": [],
   "source": [
    "building_id = train_df.building_id.value_counts().index\n",
    "samples = train_df.building_id.value_counts().values"
   ]
  },
  {
   "cell_type": "code",
   "execution_count": 103,
   "metadata": {},
   "outputs": [
    {
     "data": {
      "text/plain": [
       "<BarContainer object of 1449 artists>"
      ]
     },
     "execution_count": 103,
     "metadata": {},
     "output_type": "execute_result"
    },
    {
     "data": {
      "image/png": "[encoded data removed]",
      "text/plain": [
       "<Figure size 432x288 with 1 Axes>"
      ]
     },
     "metadata": {
      "needs_background": "light"
     },
     "output_type": "display_data"
    }
   ],
   "source": [
    "%matplotlib inline\n",
    "plt.bar(x=building_id,height=samples)"
   ]
  },
  {
   "cell_type": "code",
   "execution_count": null,
   "metadata": {},
   "outputs": [],
   "source": [
    "# 1449 building with different number of measures from 400 to 35000"
   ]
  },
  {
   "cell_type": "markdown",
   "metadata": {},
   "source": [
    "## meter column"
   ]
  },
  {
   "cell_type": "code",
   "execution_count": 16,
   "metadata": {},
   "outputs": [
    {
     "data": {
      "text/plain": [
       "0    12060910\n",
       "1     4182440\n",
       "2     2708713\n",
       "3     1264037\n",
       "Name: meter, dtype: int64"
      ]
     },
     "execution_count": 16,
     "metadata": {},
     "output_type": "execute_result"
    }
   ],
   "source": [
    "train_df.meter.value_counts()"
   ]
  },
  {
   "cell_type": "code",
   "execution_count": 238,
   "metadata": {},
   "outputs": [],
   "source": [
    "## most of values in the meter column are of type 0"
   ]
  },
  {
   "cell_type": "code",
   "execution_count": 240,
   "metadata": {},
   "outputs": [],
   "source": [
    "meter_type_dict = {0: \"electricity\", 1: \"chilledwater\", 2: \"steam\", 3: \"hotwater\"}"
   ]
  },
  {
   "cell_type": "code",
   "execution_count": 21,
   "metadata": {},
   "outputs": [
    {
     "data": {
      "text/plain": [
       "meter\n",
       "0    1413\n",
       "1     498\n",
       "2     324\n",
       "3     145\n",
       "Name: building_id, dtype: int64"
      ]
     },
     "execution_count": 21,
     "metadata": {},
     "output_type": "execute_result"
    }
   ],
   "source": [
    "train_df.groupby('meter').building_id.nunique()"
   ]
  },
  {
   "cell_type": "code",
   "execution_count": null,
   "metadata": {},
   "outputs": [],
   "source": [
    "## 145 different buildings for the hotwater meter, 324 for steam etc."
   ]
  },
  {
   "cell_type": "code",
   "execution_count": 193,
   "metadata": {},
   "outputs": [],
   "source": [
    "building_meter_tuples = train_df.loc[:,['building_id','meter']]"
   ]
  },
  {
   "cell_type": "code",
   "execution_count": 196,
   "metadata": {
    "scrolled": true
   },
   "outputs": [],
   "source": [
    "building_meter_tuples.drop_duplicates(inplace=True)"
   ]
  },
  {
   "cell_type": "code",
   "execution_count": 214,
   "metadata": {},
   "outputs": [
    {
     "data": {
      "text/plain": [
       "2380"
      ]
     },
     "execution_count": 214,
     "metadata": {},
     "output_type": "execute_result"
    }
   ],
   "source": [
    "building_meter_tuples.shape[0]"
   ]
  },
  {
   "cell_type": "code",
   "execution_count": 215,
   "metadata": {},
   "outputs": [],
   "source": [
    "building_meter_dict = collections.defaultdict(list)"
   ]
  },
  {
   "cell_type": "code",
   "execution_count": 217,
   "metadata": {},
   "outputs": [],
   "source": [
    "for index,row in building_meter_tuples.iterrows():\n",
    "    building_meter_dict[row.values[0]].append(row.values[1])"
   ]
  },
  {
   "cell_type": "code",
   "execution_count": 219,
   "metadata": {},
   "outputs": [
    {
     "data": {
      "text/plain": [
       "574"
      ]
     },
     "execution_count": 219,
     "metadata": {},
     "output_type": "execute_result"
    }
   ],
   "source": [
    "more_than_one_count = 0\n",
    "for key,value in building_meter_dict.items():\n",
    "    if len(value)>1:\n",
    "        more_than_one_count+=1\n",
    "more_than_one_count"
   ]
  },
  {
   "cell_type": "code",
   "execution_count": null,
   "metadata": {},
   "outputs": [],
   "source": [
    "## 574 building with more than 1 meter readings"
   ]
  },
  {
   "cell_type": "markdown",
   "metadata": {},
   "source": [
    "## timestamp column"
   ]
  },
  {
   "cell_type": "code",
   "execution_count": 49,
   "metadata": {},
   "outputs": [],
   "source": [
    "groupby_building = train_df.groupby('building_id')"
   ]
  },
  {
   "cell_type": "code",
   "execution_count": 73,
   "metadata": {},
   "outputs": [],
   "source": [
    "time_difference_per_building = groupby_building.timestamp.max() - groupby_building.timestamp.min()"
   ]
  },
  {
   "cell_type": "code",
   "execution_count": 79,
   "metadata": {},
   "outputs": [],
   "source": [
    "unique_times,unique_counts = np.unique(time_difference_per_building.values,return_counts=True)"
   ]
  },
  {
   "cell_type": "code",
   "execution_count": 80,
   "metadata": {},
   "outputs": [],
   "source": [
    "unique_times = pd.to_timedelta(unique_times)"
   ]
  },
  {
   "cell_type": "code",
   "execution_count": 82,
   "metadata": {
    "scrolled": true
   },
   "outputs": [
    {
     "name": "stdout",
     "output_type": "stream",
     "text": [
      "19 days 22:00:00  :  appears 1 times\n",
      "96 days 23:00:00  :  appears 1 times\n",
      "110 days 17:00:00  :  appears 1 times\n",
      "120 days 14:00:00  :  appears 1 times\n",
      "124 days 08:00:00  :  appears 1 times\n",
      "127 days 14:00:00  :  appears 1 times\n",
      "144 days 08:00:00  :  appears 1 times\n",
      "144 days 10:00:00  :  appears 1 times\n",
      "172 days 08:00:00  :  appears 1 times\n",
      "194 days 17:00:00  :  appears 1 times\n",
      "217 days 23:00:00  :  appears 1 times\n",
      "226 days 08:00:00  :  appears 1 times\n",
      "241 days 08:00:00  :  appears 1 times\n",
      "254 days 23:00:00  :  appears 1 times\n",
      "270 days 00:00:00  :  appears 1 times\n",
      "276 days 10:00:00  :  appears 1 times\n",
      "289 days 23:00:00  :  appears 1 times\n",
      "299 days 08:00:00  :  appears 1 times\n",
      "307 days 03:00:00  :  appears 1 times\n",
      "313 days 13:00:00  :  appears 3 times\n",
      "331 days 22:00:00  :  appears 1 times\n",
      "349 days 00:00:00  :  appears 1 times\n",
      "352 days 15:00:00  :  appears 1 times\n",
      "358 days 23:00:00  :  appears 1 times\n",
      "360 days 03:00:00  :  appears 1 times\n",
      "360 days 22:00:00  :  appears 1 times\n",
      "364 days 23:00:00  :  appears 1 times\n",
      "365 days 23:00:00  :  appears 1420 times\n"
     ]
    }
   ],
   "source": [
    "for time,count in zip(unique_times,unique_counts):\n",
    "    print(f\"{time}  :  appears {count} times\")"
   ]
  },
  {
   "cell_type": "code",
   "execution_count": null,
   "metadata": {},
   "outputs": [],
   "source": [
    "## most buildings have 365 days of readings"
   ]
  },
  {
   "cell_type": "markdown",
   "metadata": {},
   "source": [
    "## meter reading (target column)"
   ]
  },
  {
   "cell_type": "code",
   "execution_count": 226,
   "metadata": {},
   "outputs": [
    {
     "data": {
      "text/html": [
       "<div>\n",
       "<style scoped>\n",
       "    .dataframe tbody tr th:only-of-type {\n",
       "        vertical-align: middle;\n",
       "    }\n",
       "\n",
       "    .dataframe tbody tr th {\n",
       "        vertical-align: top;\n",
       "    }\n",
       "\n",
       "    .dataframe thead th {\n",
       "        text-align: right;\n",
       "    }\n",
       "</style>\n",
       "<table border=\"1\" class=\"dataframe\">\n",
       "  <thead>\n",
       "    <tr style=\"text-align: right;\">\n",
       "      <th></th>\n",
       "      <th>count</th>\n",
       "      <th>mean</th>\n",
       "      <th>std</th>\n",
       "      <th>min</th>\n",
       "      <th>25%</th>\n",
       "      <th>50%</th>\n",
       "      <th>75%</th>\n",
       "      <th>max</th>\n",
       "    </tr>\n",
       "    <tr>\n",
       "      <th>meter</th>\n",
       "      <th></th>\n",
       "      <th></th>\n",
       "      <th></th>\n",
       "      <th></th>\n",
       "      <th></th>\n",
       "      <th></th>\n",
       "      <th></th>\n",
       "      <th></th>\n",
       "    </tr>\n",
       "  </thead>\n",
       "  <tbody>\n",
       "    <tr>\n",
       "      <th>0</th>\n",
       "      <td>12060910.0</td>\n",
       "      <td>170.825636</td>\n",
       "      <td>380.834307</td>\n",
       "      <td>0.0</td>\n",
       "      <td>19.5000</td>\n",
       "      <td>62.8319</td>\n",
       "      <td>170.075</td>\n",
       "      <td>79769.0</td>\n",
       "    </tr>\n",
       "    <tr>\n",
       "      <th>1</th>\n",
       "      <td>4182440.0</td>\n",
       "      <td>633.363924</td>\n",
       "      <td>7988.213146</td>\n",
       "      <td>0.0</td>\n",
       "      <td>11.3288</td>\n",
       "      <td>120.4870</td>\n",
       "      <td>464.314</td>\n",
       "      <td>880374.0</td>\n",
       "    </tr>\n",
       "    <tr>\n",
       "      <th>2</th>\n",
       "      <td>2708713.0</td>\n",
       "      <td>13882.187689</td>\n",
       "      <td>418313.503638</td>\n",
       "      <td>0.0</td>\n",
       "      <td>45.7500</td>\n",
       "      <td>257.8120</td>\n",
       "      <td>1035.320</td>\n",
       "      <td>21904700.0</td>\n",
       "    </tr>\n",
       "    <tr>\n",
       "      <th>3</th>\n",
       "      <td>1264037.0</td>\n",
       "      <td>385.866781</td>\n",
       "      <td>2508.172498</td>\n",
       "      <td>0.0</td>\n",
       "      <td>0.0000</td>\n",
       "      <td>39.6237</td>\n",
       "      <td>241.285</td>\n",
       "      <td>160187.0</td>\n",
       "    </tr>\n",
       "  </tbody>\n",
       "</table>\n",
       "</div>"
      ],
      "text/plain": [
       "            count          mean            std  min      25%       50%  \\\n",
       "meter                                                                    \n",
       "0      12060910.0    170.825636     380.834307  0.0  19.5000   62.8319   \n",
       "1       4182440.0    633.363924    7988.213146  0.0  11.3288  120.4870   \n",
       "2       2708713.0  13882.187689  418313.503638  0.0  45.7500  257.8120   \n",
       "3       1264037.0    385.866781    2508.172498  0.0   0.0000   39.6237   \n",
       "\n",
       "            75%         max  \n",
       "meter                        \n",
       "0       170.075     79769.0  \n",
       "1       464.314    880374.0  \n",
       "2      1035.320  21904700.0  \n",
       "3       241.285    160187.0  "
      ]
     },
     "execution_count": 226,
     "metadata": {},
     "output_type": "execute_result"
    }
   ],
   "source": [
    "# range per meter type\n",
    "train_df.groupby('meter')['meter_reading'].describe()"
   ]
  },
  {
   "cell_type": "code",
   "execution_count": 241,
   "metadata": {
    "scrolled": false
   },
   "outputs": [
    {
     "name": "stdout",
     "output_type": "stream",
     "text": [
      "0\n",
      "1\n",
      "2\n",
      "3\n"
     ]
    },
    {
     "data": {
      "image/png": "[encoded data removed]",
      "text/plain": [
       "<Figure size 576x432 with 1 Axes>"
      ]
     },
     "metadata": {
      "needs_background": "light"
     },
     "output_type": "display_data"
    },
    {
     "data": {
      "image/png": "[encoded data removed]",
      "text/plain": [
       "<Figure size 576x432 with 1 Axes>"
      ]
     },
     "metadata": {
      "needs_background": "light"
     },
     "output_type": "display_data"
    },
    {
     "data": {
      "image/png": "[encoded data removed]",
      "text/plain": [
       "<Figure size 576x432 with 1 Axes>"
      ]
     },
     "metadata": {
      "needs_background": "light"
     },
     "output_type": "display_data"
    },
    {
     "data": {
      "image/png": "[encoded data removed]",
      "text/plain": [
       "<Figure size 576x432 with 1 Axes>"
      ]
     },
     "metadata": {
      "needs_background": "light"
     },
     "output_type": "display_data"
    }
   ],
   "source": [
    "for label, df in train_df.groupby('meter'):\n",
    "    print(label)\n",
    "    fig, ax = plt.subplots(figsize=(8,6))\n",
    "    df.set_index(\"timestamp\",inplace=True)\n",
    "    df.meter_reading.plot(kind=\"line\", ax=ax, title=f\"Meter Reading for Type {meter_type_dict[label]}\")\n",
    "    plt.ylabel(\"meter value (reading)\")\n",
    "plt.show()"
   ]
  },
  {
   "cell_type": "markdown",
   "metadata": {},
   "source": [
    "## plot of a single index"
   ]
  },
  {
   "cell_type": "code",
   "execution_count": 107,
   "metadata": {},
   "outputs": [],
   "source": [
    "def plot_by_building_id(building_id):\n",
    "    cur_building_data = train_df[train_df.building_id == building_id]\n",
    "    cur_building_data.plot(x ='timestamp', y='meter_reading', rot=90) \n",
    "    plt.xlabel(\"timestamp\")\n",
    "    plt.ylabel(\"meter reading\")"
   ]
  },
  {
   "cell_type": "code",
   "execution_count": 136,
   "metadata": {},
   "outputs": [],
   "source": [
    "cur_building_data = train_df[train_df.building_id == 20]"
   ]
  },
  {
   "cell_type": "code",
   "execution_count": 137,
   "metadata": {},
   "outputs": [
    {
     "data": {
      "text/plain": [
       "'H'"
      ]
     },
     "execution_count": 137,
     "metadata": {},
     "output_type": "execute_result"
    }
   ],
   "source": [
    "pd.infer_freq(cur_building_data.timestamp)"
   ]
  },
  {
   "cell_type": "code",
   "execution_count": 138,
   "metadata": {},
   "outputs": [
    {
     "data": {
      "image/png": "[encoded data removed]",
      "text/plain": [
       "<Figure size 432x288 with 1 Axes>"
      ]
     },
     "metadata": {
      "needs_background": "light"
     },
     "output_type": "display_data"
    }
   ],
   "source": [
    "%matplotlib inline\n",
    "building_id = 125\n",
    "plot_by_building_id(building_id)"
   ]
  },
  {
   "cell_type": "code",
   "execution_count": 29,
   "metadata": {},
   "outputs": [],
   "source": [
    "## it's better to overestimate these values because of the metric"
   ]
  },
  {
   "cell_type": "markdown",
   "metadata": {},
   "source": [
    "## baseline"
   ]
  },
  {
   "cell_type": "code",
   "execution_count": 243,
   "metadata": {},
   "outputs": [
    {
     "data": {
      "text/html": [
       "<div>\n",
       "<style scoped>\n",
       "    .dataframe tbody tr th:only-of-type {\n",
       "        vertical-align: middle;\n",
       "    }\n",
       "\n",
       "    .dataframe tbody tr th {\n",
       "        vertical-align: top;\n",
       "    }\n",
       "\n",
       "    .dataframe thead th {\n",
       "        text-align: right;\n",
       "    }\n",
       "</style>\n",
       "<table border=\"1\" class=\"dataframe\">\n",
       "  <thead>\n",
       "    <tr style=\"text-align: right;\">\n",
       "      <th></th>\n",
       "      <th>row_id</th>\n",
       "      <th>building_id</th>\n",
       "      <th>meter</th>\n",
       "      <th>timestamp</th>\n",
       "    </tr>\n",
       "  </thead>\n",
       "  <tbody>\n",
       "    <tr>\n",
       "      <th>0</th>\n",
       "      <td>0</td>\n",
       "      <td>0</td>\n",
       "      <td>0</td>\n",
       "      <td>2017-01-01 00:00:00</td>\n",
       "    </tr>\n",
       "    <tr>\n",
       "      <th>1</th>\n",
       "      <td>1</td>\n",
       "      <td>1</td>\n",
       "      <td>0</td>\n",
       "      <td>2017-01-01 00:00:00</td>\n",
       "    </tr>\n",
       "    <tr>\n",
       "      <th>2</th>\n",
       "      <td>2</td>\n",
       "      <td>2</td>\n",
       "      <td>0</td>\n",
       "      <td>2017-01-01 00:00:00</td>\n",
       "    </tr>\n",
       "    <tr>\n",
       "      <th>3</th>\n",
       "      <td>3</td>\n",
       "      <td>3</td>\n",
       "      <td>0</td>\n",
       "      <td>2017-01-01 00:00:00</td>\n",
       "    </tr>\n",
       "    <tr>\n",
       "      <th>4</th>\n",
       "      <td>4</td>\n",
       "      <td>4</td>\n",
       "      <td>0</td>\n",
       "      <td>2017-01-01 00:00:00</td>\n",
       "    </tr>\n",
       "  </tbody>\n",
       "</table>\n",
       "</div>"
      ],
      "text/plain": [
       "   row_id  building_id  meter            timestamp\n",
       "0       0            0      0  2017-01-01 00:00:00\n",
       "1       1            1      0  2017-01-01 00:00:00\n",
       "2       2            2      0  2017-01-01 00:00:00\n",
       "3       3            3      0  2017-01-01 00:00:00\n",
       "4       4            4      0  2017-01-01 00:00:00"
      ]
     },
     "execution_count": 243,
     "metadata": {},
     "output_type": "execute_result"
    }
   ],
   "source": [
    "test_df = pd.read_csv(\"data/test.csv\")"
   ]
  },
  {
   "cell_type": "code",
   "execution_count": null,
   "metadata": {},
   "outputs": [],
   "source": [
    "## baseline - predict the average per meter in the train as the meter for the test"
   ]
  },
  {
   "cell_type": "code",
   "execution_count": 252,
   "metadata": {},
   "outputs": [],
   "source": [
    "meter_to_avg_dict = train_df.groupby('meter').meter_reading.mean().T.to_dict()"
   ]
  },
  {
   "cell_type": "code",
   "execution_count": 259,
   "metadata": {},
   "outputs": [],
   "source": [
    "test_df['meter_reading'] = test_df.meter.map(meter_to_avg_dict)"
   ]
  },
  {
   "cell_type": "code",
   "execution_count": 266,
   "metadata": {},
   "outputs": [],
   "source": [
    "submission_df = test_df.loc[:,['row_id','meter_reading']]"
   ]
  },
  {
   "cell_type": "code",
   "execution_count": 268,
   "metadata": {
    "scrolled": true
   },
   "outputs": [
    {
     "data": {
      "text/html": [
       "<div>\n",
       "<style scoped>\n",
       "    .dataframe tbody tr th:only-of-type {\n",
       "        vertical-align: middle;\n",
       "    }\n",
       "\n",
       "    .dataframe tbody tr th {\n",
       "        vertical-align: top;\n",
       "    }\n",
       "\n",
       "    .dataframe thead th {\n",
       "        text-align: right;\n",
       "    }\n",
       "</style>\n",
       "<table border=\"1\" class=\"dataframe\">\n",
       "  <thead>\n",
       "    <tr style=\"text-align: right;\">\n",
       "      <th></th>\n",
       "      <th>meter_reading</th>\n",
       "    </tr>\n",
       "    <tr>\n",
       "      <th>row_id</th>\n",
       "      <th></th>\n",
       "    </tr>\n",
       "  </thead>\n",
       "  <tbody>\n",
       "    <tr>\n",
       "      <th>0</th>\n",
       "      <td>170.825636</td>\n",
       "    </tr>\n",
       "    <tr>\n",
       "      <th>1</th>\n",
       "      <td>170.825636</td>\n",
       "    </tr>\n",
       "    <tr>\n",
       "      <th>2</th>\n",
       "      <td>170.825636</td>\n",
       "    </tr>\n",
       "    <tr>\n",
       "      <th>3</th>\n",
       "      <td>170.825636</td>\n",
       "    </tr>\n",
       "    <tr>\n",
       "      <th>4</th>\n",
       "      <td>170.825636</td>\n",
       "    </tr>\n",
       "    <tr>\n",
       "      <th>5</th>\n",
       "      <td>170.825636</td>\n",
       "    </tr>\n",
       "    <tr>\n",
       "      <th>6</th>\n",
       "      <td>170.825636</td>\n",
       "    </tr>\n",
       "    <tr>\n",
       "      <th>7</th>\n",
       "      <td>170.825636</td>\n",
       "    </tr>\n",
       "    <tr>\n",
       "      <th>8</th>\n",
       "      <td>633.363924</td>\n",
       "    </tr>\n",
       "    <tr>\n",
       "      <th>9</th>\n",
       "      <td>170.825636</td>\n",
       "    </tr>\n",
       "    <tr>\n",
       "      <th>10</th>\n",
       "      <td>170.825636</td>\n",
       "    </tr>\n",
       "    <tr>\n",
       "      <th>11</th>\n",
       "      <td>633.363924</td>\n",
       "    </tr>\n",
       "    <tr>\n",
       "      <th>12</th>\n",
       "      <td>170.825636</td>\n",
       "    </tr>\n",
       "    <tr>\n",
       "      <th>13</th>\n",
       "      <td>170.825636</td>\n",
       "    </tr>\n",
       "    <tr>\n",
       "      <th>14</th>\n",
       "      <td>170.825636</td>\n",
       "    </tr>\n",
       "    <tr>\n",
       "      <th>15</th>\n",
       "      <td>170.825636</td>\n",
       "    </tr>\n",
       "    <tr>\n",
       "      <th>16</th>\n",
       "      <td>633.363924</td>\n",
       "    </tr>\n",
       "    <tr>\n",
       "      <th>17</th>\n",
       "      <td>170.825636</td>\n",
       "    </tr>\n",
       "    <tr>\n",
       "      <th>18</th>\n",
       "      <td>633.363924</td>\n",
       "    </tr>\n",
       "    <tr>\n",
       "      <th>19</th>\n",
       "      <td>170.825636</td>\n",
       "    </tr>\n",
       "    <tr>\n",
       "      <th>20</th>\n",
       "      <td>633.363924</td>\n",
       "    </tr>\n",
       "    <tr>\n",
       "      <th>21</th>\n",
       "      <td>170.825636</td>\n",
       "    </tr>\n",
       "    <tr>\n",
       "      <th>22</th>\n",
       "      <td>170.825636</td>\n",
       "    </tr>\n",
       "    <tr>\n",
       "      <th>23</th>\n",
       "      <td>170.825636</td>\n",
       "    </tr>\n",
       "    <tr>\n",
       "      <th>24</th>\n",
       "      <td>170.825636</td>\n",
       "    </tr>\n",
       "    <tr>\n",
       "      <th>25</th>\n",
       "      <td>170.825636</td>\n",
       "    </tr>\n",
       "    <tr>\n",
       "      <th>26</th>\n",
       "      <td>170.825636</td>\n",
       "    </tr>\n",
       "    <tr>\n",
       "      <th>27</th>\n",
       "      <td>170.825636</td>\n",
       "    </tr>\n",
       "    <tr>\n",
       "      <th>28</th>\n",
       "      <td>170.825636</td>\n",
       "    </tr>\n",
       "    <tr>\n",
       "      <th>29</th>\n",
       "      <td>170.825636</td>\n",
       "    </tr>\n",
       "    <tr>\n",
       "      <th>...</th>\n",
       "      <td>...</td>\n",
       "    </tr>\n",
       "    <tr>\n",
       "      <th>41697570</th>\n",
       "      <td>13882.187689</td>\n",
       "    </tr>\n",
       "    <tr>\n",
       "      <th>41697571</th>\n",
       "      <td>170.825636</td>\n",
       "    </tr>\n",
       "    <tr>\n",
       "      <th>41697572</th>\n",
       "      <td>170.825636</td>\n",
       "    </tr>\n",
       "    <tr>\n",
       "      <th>41697573</th>\n",
       "      <td>170.825636</td>\n",
       "    </tr>\n",
       "    <tr>\n",
       "      <th>41697574</th>\n",
       "      <td>13882.187689</td>\n",
       "    </tr>\n",
       "    <tr>\n",
       "      <th>41697575</th>\n",
       "      <td>170.825636</td>\n",
       "    </tr>\n",
       "    <tr>\n",
       "      <th>41697576</th>\n",
       "      <td>13882.187689</td>\n",
       "    </tr>\n",
       "    <tr>\n",
       "      <th>41697577</th>\n",
       "      <td>170.825636</td>\n",
       "    </tr>\n",
       "    <tr>\n",
       "      <th>41697578</th>\n",
       "      <td>170.825636</td>\n",
       "    </tr>\n",
       "    <tr>\n",
       "      <th>41697579</th>\n",
       "      <td>13882.187689</td>\n",
       "    </tr>\n",
       "    <tr>\n",
       "      <th>41697580</th>\n",
       "      <td>170.825636</td>\n",
       "    </tr>\n",
       "    <tr>\n",
       "      <th>41697581</th>\n",
       "      <td>13882.187689</td>\n",
       "    </tr>\n",
       "    <tr>\n",
       "      <th>41697582</th>\n",
       "      <td>170.825636</td>\n",
       "    </tr>\n",
       "    <tr>\n",
       "      <th>41697583</th>\n",
       "      <td>170.825636</td>\n",
       "    </tr>\n",
       "    <tr>\n",
       "      <th>41697584</th>\n",
       "      <td>13882.187689</td>\n",
       "    </tr>\n",
       "    <tr>\n",
       "      <th>41697585</th>\n",
       "      <td>170.825636</td>\n",
       "    </tr>\n",
       "    <tr>\n",
       "      <th>41697586</th>\n",
       "      <td>13882.187689</td>\n",
       "    </tr>\n",
       "    <tr>\n",
       "      <th>41697587</th>\n",
       "      <td>170.825636</td>\n",
       "    </tr>\n",
       "    <tr>\n",
       "      <th>41697588</th>\n",
       "      <td>13882.187689</td>\n",
       "    </tr>\n",
       "    <tr>\n",
       "      <th>41697589</th>\n",
       "      <td>170.825636</td>\n",
       "    </tr>\n",
       "    <tr>\n",
       "      <th>41697590</th>\n",
       "      <td>170.825636</td>\n",
       "    </tr>\n",
       "    <tr>\n",
       "      <th>41697591</th>\n",
       "      <td>170.825636</td>\n",
       "    </tr>\n",
       "    <tr>\n",
       "      <th>41697592</th>\n",
       "      <td>170.825636</td>\n",
       "    </tr>\n",
       "    <tr>\n",
       "      <th>41697593</th>\n",
       "      <td>13882.187689</td>\n",
       "    </tr>\n",
       "    <tr>\n",
       "      <th>41697594</th>\n",
       "      <td>170.825636</td>\n",
       "    </tr>\n",
       "    <tr>\n",
       "      <th>41697595</th>\n",
       "      <td>170.825636</td>\n",
       "    </tr>\n",
       "    <tr>\n",
       "      <th>41697596</th>\n",
       "      <td>170.825636</td>\n",
       "    </tr>\n",
       "    <tr>\n",
       "      <th>41697597</th>\n",
       "      <td>170.825636</td>\n",
       "    </tr>\n",
       "    <tr>\n",
       "      <th>41697598</th>\n",
       "      <td>170.825636</td>\n",
       "    </tr>\n",
       "    <tr>\n",
       "      <th>41697599</th>\n",
       "      <td>170.825636</td>\n",
       "    </tr>\n",
       "  </tbody>\n",
       "</table>\n",
       "<p>41697600 rows × 1 columns</p>\n",
       "</div>"
      ],
      "text/plain": [
       "          meter_reading\n",
       "row_id                 \n",
       "0            170.825636\n",
       "1            170.825636\n",
       "2            170.825636\n",
       "3            170.825636\n",
       "4            170.825636\n",
       "5            170.825636\n",
       "6            170.825636\n",
       "7            170.825636\n",
       "8            633.363924\n",
       "9            170.825636\n",
       "10           170.825636\n",
       "11           633.363924\n",
       "12           170.825636\n",
       "13           170.825636\n",
       "14           170.825636\n",
       "15           170.825636\n",
       "16           633.363924\n",
       "17           170.825636\n",
       "18           633.363924\n",
       "19           170.825636\n",
       "20           633.363924\n",
       "21           170.825636\n",
       "22           170.825636\n",
       "23           170.825636\n",
       "24           170.825636\n",
       "25           170.825636\n",
       "26           170.825636\n",
       "27           170.825636\n",
       "28           170.825636\n",
       "29           170.825636\n",
       "...                 ...\n",
       "41697570   13882.187689\n",
       "41697571     170.825636\n",
       "41697572     170.825636\n",
       "41697573     170.825636\n",
       "41697574   13882.187689\n",
       "41697575     170.825636\n",
       "41697576   13882.187689\n",
       "41697577     170.825636\n",
       "41697578     170.825636\n",
       "41697579   13882.187689\n",
       "41697580     170.825636\n",
       "41697581   13882.187689\n",
       "41697582     170.825636\n",
       "41697583     170.825636\n",
       "41697584   13882.187689\n",
       "41697585     170.825636\n",
       "41697586   13882.187689\n",
       "41697587     170.825636\n",
       "41697588   13882.187689\n",
       "41697589     170.825636\n",
       "41697590     170.825636\n",
       "41697591     170.825636\n",
       "41697592     170.825636\n",
       "41697593   13882.187689\n",
       "41697594     170.825636\n",
       "41697595     170.825636\n",
       "41697596     170.825636\n",
       "41697597     170.825636\n",
       "41697598     170.825636\n",
       "41697599     170.825636\n",
       "\n",
       "[41697600 rows x 1 columns]"
      ]
     },
     "execution_count": 268,
     "metadata": {},
     "output_type": "execute_result"
    }
   ],
   "source": [
    "submission_df.set_index('row_id')"
   ]
  },
  {
   "cell_type": "code",
   "execution_count": 270,
   "metadata": {},
   "outputs": [],
   "source": [
    "submission_df['meter_reading'] = submission_df['meter_reading'].round(4)"
   ]
  },
  {
   "cell_type": "code",
   "execution_count": 273,
   "metadata": {},
   "outputs": [],
   "source": [
    "submission_df.to_csv('submission.csv',index=False)"
   ]
  },
  {
   "cell_type": "markdown",
   "metadata": {},
   "source": [
    "# check stuff on test..."
   ]
  },
  {
   "cell_type": "code",
   "execution_count": 274,
   "metadata": {},
   "outputs": [
    {
     "data": {
      "text/plain": [
       "<BarContainer object of 1449 artists>"
      ]
     },
     "execution_count": 274,
     "metadata": {},
     "output_type": "execute_result"
    },
    {
     "data": {
      "image/png": "[encoded data removed]",
      "text/plain": [
       "<Figure size 432x288 with 1 Axes>"
      ]
     },
     "metadata": {
      "needs_background": "light"
     },
     "output_type": "display_data"
    }
   ],
   "source": [
    "building_id = test_df.building_id.value_counts().index\n",
    "samples = test_df.building_id.value_counts().values\n",
    "%matplotlib inline\n",
    "plt.bar(x=building_id,height=samples)"
   ]
  },
  {
   "cell_type": "code",
   "execution_count": null,
   "metadata": {},
   "outputs": [],
   "source": [
    "# same number of building"
   ]
  },
  {
   "cell_type": "code",
   "execution_count": 276,
   "metadata": {},
   "outputs": [
    {
     "data": {
      "text/plain": [
       "0    2.052562\n",
       "1    2.086093\n",
       "2    2.095637\n",
       "3    2.009751\n",
       "Name: meter, dtype: float64"
      ]
     },
     "execution_count": 276,
     "metadata": {},
     "output_type": "execute_result"
    }
   ],
   "source": [
    "test_df.meter.value_counts()/train_df.meter.value_counts()"
   ]
  },
  {
   "cell_type": "code",
   "execution_count": null,
   "metadata": {},
   "outputs": [],
   "source": [
    "## approximately same ratio of samples per metric"
   ]
  }
 ],
 "metadata": {
  "kernelspec": {
   "display_name": "Python 3",
   "language": "python",
   "name": "python3"
  },
  "language_info": {
   "codemirror_mode": {
    "name": "ipython",
    "version": 3
   },
   "file_extension": ".py",
   "mimetype": "text/x-python",
   "name": "python",
   "nbconvert_exporter": "python",
   "pygments_lexer": "ipython3",
   "version": "3.7.1"
  },
  "toc": {
   "base_numbering": 1,
   "nav_menu": {},
   "number_sections": true,
   "sideBar": true,
   "skip_h1_title": false,
   "title_cell": "Table of Contents",
   "title_sidebar": "Contents",
   "toc_cell": false,
   "toc_position": {},
   "toc_section_display": true,
   "toc_window_display": false
  }
 },
 "nbformat": 4,
 "nbformat_minor": 2
}
